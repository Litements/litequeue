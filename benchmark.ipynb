{
 "cells": [
  {
   "cell_type": "code",
   "execution_count": 1,
   "id": "optical-government",
   "metadata": {},
   "outputs": [],
   "source": [
    "from litequeue import LiteQueue, MessageStatus\n",
    "import sqlite3\n",
    "\n",
    "import gc\n",
    "\n",
    "from string import ascii_lowercase, printable\n",
    "from random import choice\n",
    "\n",
    "\n",
    "def random_string(string_length=10, fuzz=False, space=False):\n",
    "    \"\"\"Generate a random string of fixed length \"\"\"\n",
    "    letters = ascii_lowercase\n",
    "    letters = letters + \" \" if space else letters\n",
    "    if fuzz:\n",
    "        letters = printable\n",
    "    return \"\".join(choice(letters) for i in range(string_length))"
   ]
  },
  {
   "cell_type": "code",
   "execution_count": 2,
   "id": "7e741040-dac6-4496-a49f-12736421de7b",
   "metadata": {},
   "outputs": [
    {
     "data": {
      "text/plain": [
       "'3.40.0'"
      ]
     },
     "execution_count": 2,
     "metadata": {},
     "output_type": "execute_result"
    }
   ],
   "source": [
    "print(sqlite3.sqlite_version)"
   ]
  },
  {
   "attachments": {},
   "cell_type": "markdown",
   "id": "e434314d",
   "metadata": {},
   "source": [
    "## Test `retry` and `failed`"
   ]
  },
  {
   "cell_type": "code",
   "execution_count": 1,
   "id": "d409fbd9",
   "metadata": {},
   "outputs": [],
   "source": [
    "from litequeue import LiteQueue\n",
    "\n",
    "q = LiteQueue(\":memory:\", maxsize=50)"
   ]
  },
  {
   "cell_type": "code",
   "execution_count": 2,
   "id": "0aa814e3",
   "metadata": {},
   "outputs": [
    {
     "data": {
      "text/plain": [
       "{'message': 'hiello',\n",
       " 'message_id': 'b4eda2e0cbe6af7ee66134d189bbb2b0',\n",
       " 'status': 1,\n",
       " 'in_time': 1676224931,\n",
       " 'lock_time': 1676224931,\n",
       " 'done_time': None}"
      ]
     },
     "execution_count": 2,
     "metadata": {},
     "output_type": "execute_result"
    }
   ],
   "source": [
    "q.put(\"hiello\")\n",
    "\n",
    "task = q.pop()\n",
    "\n",
    "task"
   ]
  },
  {
   "cell_type": "code",
   "execution_count": 4,
   "id": "928c66c3",
   "metadata": {},
   "outputs": [
    {
     "data": {
      "text/plain": [
       "[{'message': 'hiello',\n",
       "  'message_id': 'b4eda2e0cbe6af7ee66134d189bbb2b0',\n",
       "  'status': 1,\n",
       "  'in_time': 1676224931,\n",
       "  'lock_time': 1676224931,\n",
       "  'done_time': None}]"
      ]
     },
     "execution_count": 4,
     "metadata": {},
     "output_type": "execute_result"
    }
   ],
   "source": [
    "[dict(x) for x in q.list_locked(2)]"
   ]
  },
  {
   "cell_type": "code",
   "execution_count": null,
   "id": "c72b3858",
   "metadata": {},
   "outputs": [],
   "source": []
  },
  {
   "cell_type": "code",
   "execution_count": null,
   "id": "b45abf7a",
   "metadata": {},
   "outputs": [],
   "source": []
  },
  {
   "attachments": {},
   "cell_type": "markdown",
   "id": "original-process",
   "metadata": {},
   "source": [
    "## Benchmarks"
   ]
  },
  {
   "cell_type": "code",
   "execution_count": 31,
   "id": "final-subject",
   "metadata": {},
   "outputs": [],
   "source": [
    "import gc"
   ]
  },
  {
   "cell_type": "markdown",
   "id": "nervous-clearance",
   "metadata": {},
   "source": [
    "In-memory SQL queue"
   ]
  },
  {
   "cell_type": "code",
   "execution_count": 32,
   "id": "center-adventure",
   "metadata": {},
   "outputs": [],
   "source": [
    "q = LiteQueue(\":memory:\", maxsize=None)"
   ]
  },
  {
   "cell_type": "code",
   "execution_count": 33,
   "id": "guilty-longitude",
   "metadata": {},
   "outputs": [
    {
     "data": {
      "text/plain": [
       "6"
      ]
     },
     "execution_count": 33,
     "metadata": {},
     "output_type": "execute_result"
    }
   ],
   "source": [
    "gc.collect()"
   ]
  },
  {
   "cell_type": "code",
   "execution_count": 34,
   "id": "about-handling",
   "metadata": {},
   "outputs": [
    {
     "name": "stdout",
     "output_type": "stream",
     "text": [
      "18.2 µs ± 2.79 µs per loop (mean ± std. dev. of 7 runs, 10,000 loops each)\n"
     ]
    }
   ],
   "source": [
    "%%timeit -n10000 -r7\n",
    "\n",
    "q.put(random_string(20))"
   ]
  },
  {
   "cell_type": "code",
   "execution_count": 35,
   "id": "manufactured-visit",
   "metadata": {},
   "outputs": [
    {
     "data": {
      "text/plain": [
       "70000"
      ]
     },
     "execution_count": 35,
     "metadata": {},
     "output_type": "execute_result"
    }
   ],
   "source": [
    "q.qsize()"
   ]
  },
  {
   "cell_type": "markdown",
   "id": "special-cherry",
   "metadata": {},
   "source": [
    "Standard python queue."
   ]
  },
  {
   "cell_type": "code",
   "execution_count": 36,
   "id": "architectural-diversity",
   "metadata": {},
   "outputs": [],
   "source": [
    "from queue import Queue"
   ]
  },
  {
   "cell_type": "code",
   "execution_count": 37,
   "id": "automotive-kentucky",
   "metadata": {},
   "outputs": [],
   "source": [
    "q = Queue()"
   ]
  },
  {
   "cell_type": "code",
   "execution_count": 38,
   "id": "dietary-password",
   "metadata": {},
   "outputs": [
    {
     "data": {
      "text/plain": [
       "6"
      ]
     },
     "execution_count": 38,
     "metadata": {},
     "output_type": "execute_result"
    }
   ],
   "source": [
    "gc.collect()"
   ]
  },
  {
   "cell_type": "code",
   "execution_count": 39,
   "id": "civic-whole",
   "metadata": {},
   "outputs": [
    {
     "name": "stdout",
     "output_type": "stream",
     "text": [
      "9.23 µs ± 460 ns per loop (mean ± std. dev. of 7 runs, 10,000 loops each)\n"
     ]
    }
   ],
   "source": [
    "%%timeit -n10000 -r7\n",
    "\n",
    "q.put(random_string(20))"
   ]
  },
  {
   "cell_type": "markdown",
   "id": "determined-brick",
   "metadata": {},
   "source": [
    "Persistent SQL queue"
   ]
  },
  {
   "cell_type": "code",
   "execution_count": 40,
   "id": "fabulous-quarter",
   "metadata": {},
   "outputs": [],
   "source": [
    "q = LiteQueue(\"test.queue\", maxsize=None)"
   ]
  },
  {
   "cell_type": "code",
   "execution_count": 41,
   "id": "remarkable-governor",
   "metadata": {},
   "outputs": [
    {
     "data": {
      "text/plain": [
       "3"
      ]
     },
     "execution_count": 41,
     "metadata": {},
     "output_type": "execute_result"
    }
   ],
   "source": [
    "gc.collect()"
   ]
  },
  {
   "cell_type": "code",
   "execution_count": 42,
   "id": "twenty-bacteria",
   "metadata": {},
   "outputs": [
    {
     "name": "stdout",
     "output_type": "stream",
     "text": [
      "87 µs ± 11.3 µs per loop (mean ± std. dev. of 7 runs, 10,000 loops each)\n"
     ]
    }
   ],
   "source": [
    "%%timeit -n10000 -r7\n",
    "\n",
    "q.put(random_string(20))"
   ]
  },
  {
   "cell_type": "code",
   "execution_count": 43,
   "id": "governmental-discretion",
   "metadata": {},
   "outputs": [
    {
     "name": "stdout",
     "output_type": "stream",
     "text": [
      "8.4M\ttest.queue\n",
      "32K\ttest.queue-shm\n",
      "4.0M\ttest.queue-wal\n"
     ]
    }
   ],
   "source": [
    "!du -sh test.queue*"
   ]
  },
  {
   "cell_type": "code",
   "execution_count": 44,
   "id": "administrative-society",
   "metadata": {},
   "outputs": [],
   "source": [
    "!rm test.queue*"
   ]
  },
  {
   "cell_type": "code",
   "execution_count": 45,
   "id": "angry-cherry",
   "metadata": {},
   "outputs": [],
   "source": [
    "assert q.conn.isolation_level is None"
   ]
  },
  {
   "cell_type": "markdown",
   "id": "devoted-hepatitis",
   "metadata": {},
   "source": [
    "Creating and removing tasks"
   ]
  },
  {
   "cell_type": "code",
   "execution_count": 46,
   "id": "italic-poison",
   "metadata": {},
   "outputs": [],
   "source": [
    "q = Queue()"
   ]
  },
  {
   "cell_type": "code",
   "execution_count": 47,
   "id": "ultimate-gross",
   "metadata": {},
   "outputs": [
    {
     "data": {
      "text/plain": [
       "6"
      ]
     },
     "execution_count": 47,
     "metadata": {},
     "output_type": "execute_result"
    }
   ],
   "source": [
    "gc.collect()"
   ]
  },
  {
   "cell_type": "code",
   "execution_count": 48,
   "id": "exposed-framing",
   "metadata": {},
   "outputs": [
    {
     "name": "stdout",
     "output_type": "stream",
     "text": [
      "11.4 µs ± 311 ns per loop (mean ± std. dev. of 7 runs, 10,000 loops each)\n"
     ]
    }
   ],
   "source": [
    "%%timeit -n10000 -r7\n",
    "\n",
    "tid = random_string(20)\n",
    "\n",
    "q.put(tid)\n",
    "\n",
    "q.get()\n",
    "\n",
    "q.task_done()"
   ]
  },
  {
   "cell_type": "code",
   "execution_count": 49,
   "id": "assisted-sunday",
   "metadata": {},
   "outputs": [],
   "source": [
    "q = LiteQueue(\":memory:\", maxsize=None)"
   ]
  },
  {
   "cell_type": "code",
   "execution_count": 50,
   "id": "faced-short",
   "metadata": {},
   "outputs": [
    {
     "data": {
      "text/plain": [
       "3"
      ]
     },
     "execution_count": 50,
     "metadata": {},
     "output_type": "execute_result"
    }
   ],
   "source": [
    "gc.collect()"
   ]
  },
  {
   "cell_type": "code",
   "execution_count": 51,
   "id": "understood-tobacco",
   "metadata": {},
   "outputs": [
    {
     "name": "stdout",
     "output_type": "stream",
     "text": [
      "51 µs ± 946 ns per loop (mean ± std. dev. of 7 runs, 10,000 loops each)\n"
     ]
    }
   ],
   "source": [
    "%%timeit -n10000 -r7\n",
    "\n",
    "tid = random_string(20)\n",
    "\n",
    "q.put(tid)\n",
    "\n",
    "task = q.pop()\n",
    "\n",
    "q.done(task[\"message_id\"])"
   ]
  },
  {
   "cell_type": "markdown",
   "id": "703c6ed5-ff9e-4c37-ac9d-d98f72b3ffde",
   "metadata": {},
   "source": [
    "**RETURNING vs. TRANSACTION**"
   ]
  },
  {
   "cell_type": "markdown",
   "id": "5a46dadb-19ef-4ce7-9b10-27575a2afeca",
   "metadata": {},
   "source": [
    "RETURNING"
   ]
  },
  {
   "cell_type": "code",
   "execution_count": 52,
   "id": "6912676e-fa70-4470-b99a-1d95ef924c63",
   "metadata": {},
   "outputs": [
    {
     "data": {
      "text/plain": [
       "6"
      ]
     },
     "execution_count": 52,
     "metadata": {},
     "output_type": "execute_result"
    }
   ],
   "source": [
    "q = LiteQueue(\"pop_bench.db\", maxsize=None)\n",
    "\n",
    "q.pop = q._pop_returning\n",
    "\n",
    "gc.collect()"
   ]
  },
  {
   "cell_type": "code",
   "execution_count": 53,
   "id": "befebec3-5121-4307-8b99-114bcdcde00e",
   "metadata": {},
   "outputs": [],
   "source": [
    "for _ in range(10000):\n",
    "    tid = random_string(60)\n",
    "\n",
    "    q.put(tid)"
   ]
  },
  {
   "cell_type": "code",
   "execution_count": 54,
   "id": "b10792da-4e14-48c8-a0a3-49dd0d8c88f2",
   "metadata": {},
   "outputs": [
    {
     "name": "stdout",
     "output_type": "stream",
     "text": [
      "CPU times: user 304 ms, sys: 152 ms, total: 455 ms\n",
      "Wall time: 555 ms\n"
     ]
    }
   ],
   "source": [
    "%%time\n",
    "\n",
    "\n",
    "for _ in range(8000):\n",
    "    task = q.pop()"
   ]
  },
  {
   "cell_type": "code",
   "execution_count": 55,
   "id": "de39ae70-eb47-40bf-b40d-7f9191eee19c",
   "metadata": {},
   "outputs": [],
   "source": [
    "!rm pop_bench.db*"
   ]
  },
  {
   "cell_type": "code",
   "execution_count": 56,
   "id": "0b1e42a8-7252-44c6-8cee-8305958a37c7",
   "metadata": {},
   "outputs": [
    {
     "data": {
      "text/plain": [
       "3"
      ]
     },
     "execution_count": 56,
     "metadata": {},
     "output_type": "execute_result"
    }
   ],
   "source": [
    "q = LiteQueue(\"pop_bench.db\", maxsize=None)\n",
    "\n",
    "q.pop = q._pop_transaction\n",
    "\n",
    "gc.collect()"
   ]
  },
  {
   "cell_type": "code",
   "execution_count": 57,
   "id": "7a2a683a-c23b-49ad-a0d3-93e2b5285ac4",
   "metadata": {},
   "outputs": [],
   "source": [
    "for _ in range(10000):\n",
    "    tid = random_string(60)\n",
    "\n",
    "    q.put(tid)"
   ]
  },
  {
   "cell_type": "code",
   "execution_count": 58,
   "id": "9aa1480c-9421-4c8c-987b-0849de239161",
   "metadata": {},
   "outputs": [
    {
     "name": "stdout",
     "output_type": "stream",
     "text": [
      "CPU times: user 5.27 s, sys: 162 ms, total: 5.43 s\n",
      "Wall time: 5.53 s\n"
     ]
    }
   ],
   "source": [
    "%%time\n",
    "\n",
    "\n",
    "for _ in range(8000):\n",
    "    task = q.pop()"
   ]
  },
  {
   "cell_type": "code",
   "execution_count": 59,
   "id": "90e466fe-4b50-471c-96e1-51826713479f",
   "metadata": {},
   "outputs": [],
   "source": [
    "!rm pop_bench.db*"
   ]
  },
  {
   "cell_type": "code",
   "execution_count": null,
   "id": "97195b64-7bdd-46f3-a4ad-1f4bf284ee07",
   "metadata": {},
   "outputs": [],
   "source": []
  }
 ],
 "metadata": {
  "kernelspec": {
   "display_name": "f",
   "language": "python",
   "name": "python3"
  },
  "language_info": {
   "codemirror_mode": {
    "name": "ipython",
    "version": 3
   },
   "file_extension": ".py",
   "mimetype": "text/x-python",
   "name": "python",
   "nbconvert_exporter": "python",
   "pygments_lexer": "ipython3",
   "version": "3.9.15"
  },
  "vscode": {
   "interpreter": {
    "hash": "d77364f49ed1a883ee3b04a699ac60d79e241a153ae3cfe0b4b1de355213b681"
   }
  }
 },
 "nbformat": 4,
 "nbformat_minor": 5
}
