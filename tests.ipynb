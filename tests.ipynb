{
 "cells": [
  {
   "cell_type": "code",
   "execution_count": null,
   "id": "coastal-taxation",
   "metadata": {},
   "outputs": [],
   "source": [
    "%load_ext autoreload\n",
    "%autoreload 2"
   ]
  },
  {
   "cell_type": "code",
   "execution_count": null,
   "id": "optical-government",
   "metadata": {},
   "outputs": [],
   "source": [
    "from litequeue import SQLQueue\n",
    "\n",
    "import sqlite3"
   ]
  },
  {
   "cell_type": "code",
   "execution_count": null,
   "id": "7e741040-dac6-4496-a49f-12736421de7b",
   "metadata": {},
   "outputs": [
    {
     "data": {
      "text/plain": [
       "'3.35.5'"
      ]
     },
     "execution_count": null,
     "metadata": {},
     "output_type": "execute_result"
    }
   ],
   "source": [
    "sqlite3.sqlite_version"
   ]
  },
  {
   "cell_type": "code",
   "execution_count": null,
   "id": "portuguese-wages",
   "metadata": {},
   "outputs": [],
   "source": [
    "TEST_1 = \"key_test_1\"\n",
    "TEST_2 = \"key_test_2\""
   ]
  },
  {
   "cell_type": "code",
   "execution_count": null,
   "id": "convertible-parent",
   "metadata": {},
   "outputs": [],
   "source": [
    "for conn_type_kwargs in (\n",
    "    {\"filename_or_conn\": sqlite3.connect(\":memory:\")},\n",
    "    {\"filename_or_conn\": \":memory:\"},\n",
    "    {\"memory\": True},\n",
    "):\n",
    "    q = SQLQueue(**conn_type_kwargs)\n",
    "    assert (\n",
    "        q.conn.isolation_level is None\n",
    "    ), f\"Isolation level not set properly for connection '{conn_type_kwargs}'\""
   ]
  },
  {
   "cell_type": "code",
   "execution_count": null,
   "id": "subsequent-router",
   "metadata": {},
   "outputs": [
    {
     "data": {
      "text/plain": [
       "4"
      ]
     },
     "execution_count": null,
     "metadata": {},
     "output_type": "execute_result"
    }
   ],
   "source": [
    "q = SQLQueue(sqlite3.connect(\":memory:\"))\n",
    "\n",
    "q.put(\"hello\")\n",
    "q.put(\"world\")\n",
    "q.put(\"foo\")\n",
    "q.put(\"bar\")"
   ]
  },
  {
   "cell_type": "code",
   "execution_count": null,
   "id": "hispanic-joshua",
   "metadata": {},
   "outputs": [
    {
     "data": {
      "text/plain": [
       "{'message': 'hello',\n",
       " 'message_id': '2e65052f1fa6e9b1155c3aa40d5ddab8',\n",
       " 'status': 1,\n",
       " 'in_time': 1628333805,\n",
       " 'lock_time': 1628333805,\n",
       " 'done_time': None}"
      ]
     },
     "execution_count": null,
     "metadata": {},
     "output_type": "execute_result"
    }
   ],
   "source": [
    "q.pop()"
   ]
  },
  {
   "cell_type": "code",
   "execution_count": null,
   "id": "taken-clark",
   "metadata": {},
   "outputs": [
    {
     "name": "stdout",
     "output_type": "stream",
     "text": [
      "SQLQueue(Connection=<sqlite3.Connection object at 0x7fb9e34bde30>, items=[{'done_time': None,\n",
      "  'in_time': 1628333805,\n",
      "  'lock_time': 1628333805,\n",
      "  'message': 'hello',\n",
      "  'message_id': '2e65052f1fa6e9b1155c3aa40d5ddab8',\n",
      "  'status': 1},\n",
      " {'done_time': None,\n",
      "  'in_time': 1628333805,\n",
      "  'lock_time': None,\n",
      "  'message': 'world',\n",
      "  'message_id': 'b41e4afeedbe2839786a86e057a93633',\n",
      "  'status': 0},\n",
      " {'done_time': None,\n",
      "  'in_time': 1628333805,\n",
      "  'lock_time': None,\n",
      "  'message': 'foo',\n",
      "  'message_id': '4b1c3d584bbfb43b1787cf48da491f5b',\n",
      "  'status': 0},\n",
      " {'done_time': None,\n",
      "  'in_time': 1628333805,\n",
      "  'lock_time': None,\n",
      "  'message': 'bar',\n",
      "  'message_id': '544c25cf44ff8929ca1b0fca7d822f38',\n",
      "  'status': 0}])\n"
     ]
    }
   ],
   "source": [
    "print(q)"
   ]
  },
  {
   "cell_type": "code",
   "execution_count": null,
   "id": "conventional-english",
   "metadata": {},
   "outputs": [],
   "source": [
    "# pop remaining\n",
    "for _ in range(3):\n",
    "    q.pop()\n",
    "\n",
    "\n",
    "assert q.pop() is None"
   ]
  },
  {
   "cell_type": "code",
   "execution_count": null,
   "id": "resident-conditioning",
   "metadata": {},
   "outputs": [
    {
     "name": "stdout",
     "output_type": "stream",
     "text": [
      "SQLQueue(Connection=<sqlite3.Connection object at 0x7fb9e34bde30>, items=[{'done_time': None,\n",
      "  'in_time': 1628333805,\n",
      "  'lock_time': 1628333805,\n",
      "  'message': 'hello',\n",
      "  'message_id': '2e65052f1fa6e9b1155c3aa40d5ddab8',\n",
      "  'status': 1},\n",
      " {'done_time': None,\n",
      "  'in_time': 1628333805,\n",
      "  'lock_time': 1628333806,\n",
      "  'message': 'world',\n",
      "  'message_id': 'b41e4afeedbe2839786a86e057a93633',\n",
      "  'status': 1},\n",
      " {'done_time': None,\n",
      "  'in_time': 1628333805,\n",
      "  'lock_time': 1628333806,\n",
      "  'message': 'foo',\n",
      "  'message_id': '4b1c3d584bbfb43b1787cf48da491f5b',\n",
      "  'status': 1},\n",
      " {'done_time': None,\n",
      "  'in_time': 1628333805,\n",
      "  'lock_time': 1628333806,\n",
      "  'message': 'bar',\n",
      "  'message_id': '544c25cf44ff8929ca1b0fca7d822f38',\n",
      "  'status': 1}])\n"
     ]
    }
   ],
   "source": [
    "print(q)"
   ]
  },
  {
   "cell_type": "code",
   "execution_count": null,
   "id": "manual-submission",
   "metadata": {},
   "outputs": [
    {
     "data": {
      "text/plain": [
       "8"
      ]
     },
     "execution_count": null,
     "metadata": {},
     "output_type": "execute_result"
    }
   ],
   "source": [
    "q.put(\"hello\")\n",
    "q.put(\"world\")\n",
    "q.put(\"foo\")\n",
    "q.put(\"bar\")"
   ]
  },
  {
   "cell_type": "code",
   "execution_count": null,
   "id": "contrary-occupation",
   "metadata": {},
   "outputs": [],
   "source": [
    "task = q.pop()\n",
    "\n",
    "assert task[\"message\"] == \"hello\""
   ]
  },
  {
   "cell_type": "code",
   "execution_count": null,
   "id": "eastern-bernard",
   "metadata": {},
   "outputs": [
    {
     "data": {
      "text/plain": [
       "{'message': 'world',\n",
       " 'message_id': 'd4bbefebcd92a0f091eace2b93f9b906',\n",
       " 'status': 0,\n",
       " 'in_time': 1628333807,\n",
       " 'lock_time': None,\n",
       " 'done_time': None}"
      ]
     },
     "execution_count": null,
     "metadata": {},
     "output_type": "execute_result"
    }
   ],
   "source": [
    "q.peek()"
   ]
  },
  {
   "cell_type": "code",
   "execution_count": null,
   "id": "passing-drill",
   "metadata": {},
   "outputs": [],
   "source": [
    "# next one that is free\n",
    "assert q.peek()[\"message\"] == \"world\"\n",
    "\n",
    "# status = 0 = free\n",
    "assert q.peek()[\"status\"] == 0"
   ]
  },
  {
   "cell_type": "code",
   "execution_count": null,
   "id": "affiliated-eligibility",
   "metadata": {},
   "outputs": [
    {
     "data": {
      "text/plain": [
       "('hello', '8ac2b6e55eb06c906c37863d9433c9d3')"
      ]
     },
     "execution_count": null,
     "metadata": {},
     "output_type": "execute_result"
    }
   ],
   "source": [
    "task[\"message\"], task[\"message_id\"]"
   ]
  },
  {
   "cell_type": "code",
   "execution_count": null,
   "id": "grateful-chosen",
   "metadata": {},
   "outputs": [
    {
     "data": {
      "text/plain": [
       "8"
      ]
     },
     "execution_count": null,
     "metadata": {},
     "output_type": "execute_result"
    }
   ],
   "source": [
    "q.done(task[\"message_id\"])"
   ]
  },
  {
   "cell_type": "code",
   "execution_count": null,
   "id": "latest-actress",
   "metadata": {},
   "outputs": [
    {
     "data": {
      "text/plain": [
       "{'message': 'hello',\n",
       " 'message_id': '8ac2b6e55eb06c906c37863d9433c9d3',\n",
       " 'status': 2,\n",
       " 'in_time': 1628333807,\n",
       " 'lock_time': 1628333807,\n",
       " 'done_time': 1628333811}"
      ]
     },
     "execution_count": null,
     "metadata": {},
     "output_type": "execute_result"
    }
   ],
   "source": [
    "q.get(task[\"message_id\"])"
   ]
  },
  {
   "cell_type": "code",
   "execution_count": null,
   "id": "consistent-pound",
   "metadata": {},
   "outputs": [
    {
     "name": "stdout",
     "output_type": "stream",
     "text": [
      "Task 8ac2b6e55eb06c906c37863d9433c9d3 took 4 seconds to get done and was in the queue for 4 seconds\n"
     ]
    }
   ],
   "source": [
    "already_done = q.get(task[\"message_id\"])\n",
    "\n",
    "# stauts = 2 = done\n",
    "assert already_done[\"status\"] == 2\n",
    "\n",
    "in_time = already_done[\"in_time\"]\n",
    "lock_time = already_done[\"lock_time\"]\n",
    "done_time = already_done[\"done_time\"]\n",
    "\n",
    "assert done_time >= lock_time >= in_time\n",
    "print(\n",
    "    f\"Task {already_done['message_id']} took {done_time - lock_time} seconds to get done and was in the queue for {done_time - in_time} seconds\"\n",
    ")"
   ]
  },
  {
   "cell_type": "code",
   "execution_count": null,
   "id": "sharp-hypothesis",
   "metadata": {},
   "outputs": [
    {
     "name": "stdout",
     "output_type": "stream",
     "text": [
      "SQLQueue(Connection=<sqlite3.Connection object at 0x7fb9e34bde30>, items=[{'done_time': None,\n",
      "  'in_time': 1628333805,\n",
      "  'lock_time': 1628333805,\n",
      "  'message': 'hello',\n",
      "  'message_id': '2e65052f1fa6e9b1155c3aa40d5ddab8',\n",
      "  'status': 1},\n",
      " {'done_time': None,\n",
      "  'in_time': 1628333805,\n",
      "  'lock_time': 1628333806,\n",
      "  'message': 'world',\n",
      "  'message_id': 'b41e4afeedbe2839786a86e057a93633',\n",
      "  'status': 1},\n",
      " {'done_time': None,\n",
      "  'in_time': 1628333805,\n",
      "  'lock_time': 1628333806,\n",
      "  'message': 'foo',\n",
      "  'message_id': '4b1c3d584bbfb43b1787cf48da491f5b',\n",
      "  'status': 1},\n",
      " {'done_time': None,\n",
      "  'in_time': 1628333805,\n",
      "  'lock_time': 1628333806,\n",
      "  'message': 'bar',\n",
      "  'message_id': '544c25cf44ff8929ca1b0fca7d822f38',\n",
      "  'status': 1},\n",
      " {'done_time': 1628333811,\n",
      "  'in_time': 1628333807,\n",
      "  'lock_time': 1628333807,\n",
      "  'message': 'hello',\n",
      "  'message_id': '8ac2b6e55eb06c906c37863d9433c9d3',\n",
      "  'status': 2},\n",
      " {'done_time': None,\n",
      "  'in_time': 1628333807,\n",
      "  'lock_time': None,\n",
      "  'message': 'world',\n",
      "  'message_id': 'd4bbefebcd92a0f091eace2b93f9b906',\n",
      "  'status': 0},\n",
      " {'done_time': None,\n",
      "  'in_time': 1628333807,\n",
      "  'lock_time': None,\n",
      "  'message': 'foo',\n",
      "  'message_id': '3c9c699be7b98e174f86c0e0ee05be51',\n",
      "  'status': 0},\n",
      " {'done_time': None,\n",
      "  'in_time': 1628333807,\n",
      "  'lock_time': None,\n",
      "  'message': 'bar',\n",
      "  'message_id': '297bec7b644f229112fa7a6258266fff',\n",
      "  'status': 0}])\n"
     ]
    }
   ],
   "source": [
    "print(q)"
   ]
  },
  {
   "cell_type": "code",
   "execution_count": null,
   "id": "sudden-regression",
   "metadata": {},
   "outputs": [],
   "source": [
    "assert q.qsize() == 7"
   ]
  },
  {
   "cell_type": "code",
   "execution_count": null,
   "id": "starting-knock",
   "metadata": {},
   "outputs": [],
   "source": [
    "next_one_msg = q.peek()[\"message\"]\n",
    "next_one_id = q.peek()[\"message_id\"]\n",
    "\n",
    "task = q.pop()\n",
    "\n",
    "assert task[\"message\"] == next_one_msg\n",
    "assert task[\"message_id\"] == next_one_id"
   ]
  },
  {
   "cell_type": "code",
   "execution_count": null,
   "id": "relative-brunswick",
   "metadata": {},
   "outputs": [
    {
     "name": "stdout",
     "output_type": "stream",
     "text": [
      "SQLQueue(Connection=<sqlite3.Connection object at 0x7fb9e34bde30>, items=[{'done_time': None,\n",
      "  'in_time': 1628333805,\n",
      "  'lock_time': 1628333805,\n",
      "  'message': 'hello',\n",
      "  'message_id': '2e65052f1fa6e9b1155c3aa40d5ddab8',\n",
      "  'status': 1},\n",
      " {'done_time': None,\n",
      "  'in_time': 1628333805,\n",
      "  'lock_time': 1628333806,\n",
      "  'message': 'world',\n",
      "  'message_id': 'b41e4afeedbe2839786a86e057a93633',\n",
      "  'status': 1},\n",
      " {'done_time': None,\n",
      "  'in_time': 1628333805,\n",
      "  'lock_time': 1628333806,\n",
      "  'message': 'foo',\n",
      "  'message_id': '4b1c3d584bbfb43b1787cf48da491f5b',\n",
      "  'status': 1},\n",
      " {'done_time': None,\n",
      "  'in_time': 1628333805,\n",
      "  'lock_time': 1628333806,\n",
      "  'message': 'bar',\n",
      "  'message_id': '544c25cf44ff8929ca1b0fca7d822f38',\n",
      "  'status': 1},\n",
      " {'done_time': 1628333811,\n",
      "  'in_time': 1628333807,\n",
      "  'lock_time': 1628333807,\n",
      "  'message': 'hello',\n",
      "  'message_id': '8ac2b6e55eb06c906c37863d9433c9d3',\n",
      "  'status': 2},\n",
      " {'done_time': None,\n",
      "  'in_time': 1628333807,\n",
      "  'lock_time': 1628333812,\n",
      "  'message': 'world',\n",
      "  'message_id': 'd4bbefebcd92a0f091eace2b93f9b906',\n",
      "  'status': 1},\n",
      " {'done_time': None,\n",
      "  'in_time': 1628333807,\n",
      "  'lock_time': None,\n",
      "  'message': 'foo',\n",
      "  'message_id': '3c9c699be7b98e174f86c0e0ee05be51',\n",
      "  'status': 0},\n",
      " {'done_time': None,\n",
      "  'in_time': 1628333807,\n",
      "  'lock_time': None,\n",
      "  'message': 'bar',\n",
      "  'message_id': '297bec7b644f229112fa7a6258266fff',\n",
      "  'status': 0}])\n"
     ]
    }
   ],
   "source": [
    "print(q)"
   ]
  },
  {
   "cell_type": "code",
   "execution_count": null,
   "id": "regional-visibility",
   "metadata": {},
   "outputs": [],
   "source": [
    "q.prune()"
   ]
  },
  {
   "cell_type": "code",
   "execution_count": null,
   "id": "tribal-queens",
   "metadata": {},
   "outputs": [
    {
     "name": "stdout",
     "output_type": "stream",
     "text": [
      "SQLQueue(Connection=<sqlite3.Connection object at 0x7fb9e34bde30>, items=[{'done_time': None,\n",
      "  'in_time': 1628333805,\n",
      "  'lock_time': 1628333805,\n",
      "  'message': 'hello',\n",
      "  'message_id': '2e65052f1fa6e9b1155c3aa40d5ddab8',\n",
      "  'status': 1},\n",
      " {'done_time': None,\n",
      "  'in_time': 1628333805,\n",
      "  'lock_time': 1628333806,\n",
      "  'message': 'world',\n",
      "  'message_id': 'b41e4afeedbe2839786a86e057a93633',\n",
      "  'status': 1},\n",
      " {'done_time': None,\n",
      "  'in_time': 1628333805,\n",
      "  'lock_time': 1628333806,\n",
      "  'message': 'foo',\n",
      "  'message_id': '4b1c3d584bbfb43b1787cf48da491f5b',\n",
      "  'status': 1},\n",
      " {'done_time': None,\n",
      "  'in_time': 1628333805,\n",
      "  'lock_time': 1628333806,\n",
      "  'message': 'bar',\n",
      "  'message_id': '544c25cf44ff8929ca1b0fca7d822f38',\n",
      "  'status': 1},\n",
      " {'done_time': None,\n",
      "  'in_time': 1628333807,\n",
      "  'lock_time': 1628333812,\n",
      "  'message': 'world',\n",
      "  'message_id': 'd4bbefebcd92a0f091eace2b93f9b906',\n",
      "  'status': 1},\n",
      " {'done_time': None,\n",
      "  'in_time': 1628333807,\n",
      "  'lock_time': None,\n",
      "  'message': 'foo',\n",
      "  'message_id': '3c9c699be7b98e174f86c0e0ee05be51',\n",
      "  'status': 0},\n",
      " {'done_time': None,\n",
      "  'in_time': 1628333807,\n",
      "  'lock_time': None,\n",
      "  'message': 'bar',\n",
      "  'message_id': '297bec7b644f229112fa7a6258266fff',\n",
      "  'status': 0}])\n"
     ]
    }
   ],
   "source": [
    "print(q)"
   ]
  },
  {
   "cell_type": "code",
   "execution_count": null,
   "id": "premium-design",
   "metadata": {},
   "outputs": [],
   "source": [
    "from string import ascii_lowercase, printable\n",
    "from random import choice\n",
    "\n",
    "\n",
    "def random_string(string_length=10, fuzz=False, space=False):\n",
    "    \"\"\"Generate a random string of fixed length \"\"\"\n",
    "    letters = ascii_lowercase\n",
    "    letters = letters + \" \" if space else letters\n",
    "    if fuzz:\n",
    "        letters = printable\n",
    "    return \"\".join(choice(letters) for i in range(string_length))"
   ]
  },
  {
   "cell_type": "code",
   "execution_count": null,
   "id": "informed-bulletin",
   "metadata": {},
   "outputs": [],
   "source": [
    "q = SQLQueue(\":memory:\", maxsize=50)"
   ]
  },
  {
   "cell_type": "code",
   "execution_count": null,
   "id": "frequent-selling",
   "metadata": {},
   "outputs": [],
   "source": [
    "for i in range(50):\n",
    "\n",
    "    q.put(random_string(20))"
   ]
  },
  {
   "cell_type": "code",
   "execution_count": null,
   "id": "orange-maximum",
   "metadata": {},
   "outputs": [],
   "source": [
    "assert q.qsize() == 50"
   ]
  },
  {
   "cell_type": "markdown",
   "id": "southwest-optimum",
   "metadata": {},
   "source": [
    "Make sure an error is raised when the queue has reached its size limit"
   ]
  },
  {
   "cell_type": "code",
   "execution_count": null,
   "id": "junior-inventory",
   "metadata": {},
   "outputs": [
    {
     "name": "stdout",
     "output_type": "stream",
     "text": [
      "test pass\n"
     ]
    }
   ],
   "source": [
    "import sqlite3\n",
    "\n",
    "try:\n",
    "    q.put(random_string(20))\n",
    "except sqlite3.IntegrityError:  # max len reached\n",
    "    assert q.full() == True\n",
    "    print(\"test pass\")"
   ]
  },
  {
   "cell_type": "code",
   "execution_count": null,
   "id": "personalized-syndication",
   "metadata": {},
   "outputs": [
    {
     "data": {
      "text/plain": [
       "{'message': 'rziaqccoasoogmvamksl',\n",
       " 'message_id': 'fe3b7b3059a454e1ffccd3fb9a30731d',\n",
       " 'status': 1,\n",
       " 'in_time': 1628333814,\n",
       " 'lock_time': 1628333815,\n",
       " 'done_time': None}"
      ]
     },
     "execution_count": null,
     "metadata": {},
     "output_type": "execute_result"
    }
   ],
   "source": [
    "q.pop()"
   ]
  },
  {
   "cell_type": "code",
   "execution_count": null,
   "id": "surprised-purple",
   "metadata": {},
   "outputs": [],
   "source": [
    "assert q.full() == False"
   ]
  },
  {
   "cell_type": "code",
   "execution_count": null,
   "id": "bottom-wireless",
   "metadata": {},
   "outputs": [
    {
     "data": {
      "text/plain": [
       "51"
      ]
     },
     "execution_count": null,
     "metadata": {},
     "output_type": "execute_result"
    }
   ],
   "source": [
    "q.put(\"hello\")"
   ]
  },
  {
   "cell_type": "code",
   "execution_count": null,
   "id": "removed-terrorist",
   "metadata": {},
   "outputs": [
    {
     "data": {
      "text/plain": [
       "False"
      ]
     },
     "execution_count": null,
     "metadata": {},
     "output_type": "execute_result"
    }
   ],
   "source": [
    "q.empty()"
   ]
  },
  {
   "cell_type": "code",
   "execution_count": null,
   "id": "textile-identification",
   "metadata": {},
   "outputs": [],
   "source": [
    "assert q.empty() == False\n",
    "\n",
    "q2 = SQLQueue(\":memory:\")\n",
    "\n",
    "assert q2.empty() == True"
   ]
  },
  {
   "cell_type": "markdown",
   "id": "original-process",
   "metadata": {},
   "source": [
    "**Random benchmarks**\n",
    "\n",
    "Inserting 100 items in the queue. Since it will run many times, the queue will end up having a lot more than 100 items"
   ]
  },
  {
   "cell_type": "code",
   "execution_count": null,
   "id": "final-subject",
   "metadata": {},
   "outputs": [],
   "source": [
    "import gc"
   ]
  },
  {
   "cell_type": "markdown",
   "id": "nervous-clearance",
   "metadata": {},
   "source": [
    "In-memory SQL queue"
   ]
  },
  {
   "cell_type": "code",
   "execution_count": null,
   "id": "center-adventure",
   "metadata": {},
   "outputs": [],
   "source": [
    "q = SQLQueue(\":memory:\", maxsize=None)"
   ]
  },
  {
   "cell_type": "code",
   "execution_count": null,
   "id": "guilty-longitude",
   "metadata": {},
   "outputs": [
    {
     "data": {
      "text/plain": [
       "261"
      ]
     },
     "execution_count": null,
     "metadata": {},
     "output_type": "execute_result"
    }
   ],
   "source": [
    "gc.collect()"
   ]
  },
  {
   "cell_type": "code",
   "execution_count": null,
   "id": "about-handling",
   "metadata": {},
   "outputs": [
    {
     "name": "stdout",
     "output_type": "stream",
     "text": [
      "36.8 µs ± 2.16 µs per loop (mean ± std. dev. of 7 runs, 10000 loops each)\n"
     ]
    }
   ],
   "source": [
    "%%timeit -n10000 -r7\n",
    "\n",
    "q.put(random_string(20))"
   ]
  },
  {
   "cell_type": "code",
   "execution_count": null,
   "id": "manufactured-visit",
   "metadata": {},
   "outputs": [
    {
     "data": {
      "text/plain": [
       "70000"
      ]
     },
     "execution_count": null,
     "metadata": {},
     "output_type": "execute_result"
    }
   ],
   "source": [
    "q.qsize()"
   ]
  },
  {
   "cell_type": "markdown",
   "id": "special-cherry",
   "metadata": {},
   "source": [
    "Standard python queue."
   ]
  },
  {
   "cell_type": "code",
   "execution_count": null,
   "id": "architectural-diversity",
   "metadata": {},
   "outputs": [],
   "source": [
    "from queue import Queue"
   ]
  },
  {
   "cell_type": "code",
   "execution_count": null,
   "id": "automotive-kentucky",
   "metadata": {},
   "outputs": [],
   "source": [
    "q = Queue()"
   ]
  },
  {
   "cell_type": "code",
   "execution_count": null,
   "id": "dietary-password",
   "metadata": {},
   "outputs": [
    {
     "data": {
      "text/plain": [
       "116"
      ]
     },
     "execution_count": null,
     "metadata": {},
     "output_type": "execute_result"
    }
   ],
   "source": [
    "gc.collect()"
   ]
  },
  {
   "cell_type": "code",
   "execution_count": null,
   "id": "civic-whole",
   "metadata": {},
   "outputs": [
    {
     "name": "stdout",
     "output_type": "stream",
     "text": [
      "25.1 µs ± 3.27 µs per loop (mean ± std. dev. of 7 runs, 10000 loops each)\n"
     ]
    }
   ],
   "source": [
    "%%timeit -n10000 -r7\n",
    "\n",
    "q.put(random_string(20))"
   ]
  },
  {
   "cell_type": "markdown",
   "id": "determined-brick",
   "metadata": {},
   "source": [
    "Persistent SQL queue"
   ]
  },
  {
   "cell_type": "code",
   "execution_count": null,
   "id": "fabulous-quarter",
   "metadata": {},
   "outputs": [],
   "source": [
    "q = SQLQueue(\"test.queue\", maxsize=None)"
   ]
  },
  {
   "cell_type": "code",
   "execution_count": null,
   "id": "remarkable-governor",
   "metadata": {},
   "outputs": [
    {
     "data": {
      "text/plain": [
       "69"
      ]
     },
     "execution_count": null,
     "metadata": {},
     "output_type": "execute_result"
    }
   ],
   "source": [
    "gc.collect()"
   ]
  },
  {
   "cell_type": "code",
   "execution_count": null,
   "id": "twenty-bacteria",
   "metadata": {},
   "outputs": [
    {
     "name": "stdout",
     "output_type": "stream",
     "text": [
      "219 µs ± 19.2 µs per loop (mean ± std. dev. of 7 runs, 10000 loops each)\n"
     ]
    }
   ],
   "source": [
    "%%timeit -n10000 -r7\n",
    "\n",
    "q.put(random_string(20))"
   ]
  },
  {
   "cell_type": "code",
   "execution_count": null,
   "id": "governmental-discretion",
   "metadata": {},
   "outputs": [
    {
     "name": "stdout",
     "output_type": "stream",
     "text": [
      "9.1M\ttest.queue\n",
      "32K\ttest.queue-shm\n",
      "5.0M\ttest.queue-wal\n"
     ]
    }
   ],
   "source": [
    "!du -sh test.queue*"
   ]
  },
  {
   "cell_type": "code",
   "execution_count": null,
   "id": "administrative-society",
   "metadata": {},
   "outputs": [],
   "source": [
    "!rm test.queue*"
   ]
  },
  {
   "cell_type": "code",
   "execution_count": null,
   "id": "angry-cherry",
   "metadata": {},
   "outputs": [],
   "source": [
    "assert q.conn.isolation_level is None"
   ]
  },
  {
   "cell_type": "markdown",
   "id": "devoted-hepatitis",
   "metadata": {},
   "source": [
    "Creating and removing tasks"
   ]
  },
  {
   "cell_type": "code",
   "execution_count": null,
   "id": "italic-poison",
   "metadata": {},
   "outputs": [],
   "source": [
    "q = Queue()"
   ]
  },
  {
   "cell_type": "code",
   "execution_count": null,
   "id": "ultimate-gross",
   "metadata": {},
   "outputs": [
    {
     "data": {
      "text/plain": [
       "138"
      ]
     },
     "execution_count": null,
     "metadata": {},
     "output_type": "execute_result"
    }
   ],
   "source": [
    "gc.collect()"
   ]
  },
  {
   "cell_type": "code",
   "execution_count": null,
   "id": "exposed-framing",
   "metadata": {},
   "outputs": [
    {
     "name": "stdout",
     "output_type": "stream",
     "text": [
      "37.1 µs ± 16.7 µs per loop (mean ± std. dev. of 7 runs, 10000 loops each)\n"
     ]
    }
   ],
   "source": [
    "%%timeit -n10000 -r7\n",
    "\n",
    "tid = random_string(20)\n",
    "\n",
    "q.put(tid)\n",
    "\n",
    "q.get()\n",
    "\n",
    "q.task_done()"
   ]
  },
  {
   "cell_type": "code",
   "execution_count": null,
   "id": "assisted-sunday",
   "metadata": {},
   "outputs": [],
   "source": [
    "q = SQLQueue(\":memory:\", maxsize=None)"
   ]
  },
  {
   "cell_type": "code",
   "execution_count": null,
   "id": "faced-short",
   "metadata": {},
   "outputs": [
    {
     "data": {
      "text/plain": [
       "69"
      ]
     },
     "execution_count": null,
     "metadata": {},
     "output_type": "execute_result"
    }
   ],
   "source": [
    "gc.collect()"
   ]
  },
  {
   "cell_type": "code",
   "execution_count": null,
   "id": "understood-tobacco",
   "metadata": {},
   "outputs": [
    {
     "name": "stdout",
     "output_type": "stream",
     "text": [
      "96.2 µs ± 7.89 µs per loop (mean ± std. dev. of 7 runs, 10000 loops each)\n"
     ]
    }
   ],
   "source": [
    "%%timeit -n10000 -r7\n",
    "\n",
    "tid = random_string(20)\n",
    "\n",
    "q.put(tid)\n",
    "\n",
    "task = q.pop()\n",
    "\n",
    "q.done(task[\"message_id\"])"
   ]
  },
  {
   "cell_type": "markdown",
   "id": "703c6ed5-ff9e-4c37-ac9d-d98f72b3ffde",
   "metadata": {},
   "source": [
    "**RETURNING vs. TRANSACTION**"
   ]
  },
  {
   "cell_type": "code",
   "execution_count": null,
   "id": "0b0b6e92-c202-484a-b479-f03aa016e43f",
   "metadata": {},
   "outputs": [],
   "source": [
    "from litequeue import SQLQueue\n",
    "import gc\n",
    "\n",
    "from string import ascii_lowercase, printable\n",
    "from random import choice\n",
    "\n",
    "\n",
    "def random_string(string_length=10, fuzz=False, space=False):\n",
    "    \"\"\"Generate a random string of fixed length\"\"\"\n",
    "    letters = ascii_lowercase\n",
    "    letters = letters + \" \" if space else letters\n",
    "    if fuzz:\n",
    "        letters = printable\n",
    "    return \"\".join(choice(letters) for i in range(string_length))"
   ]
  },
  {
   "cell_type": "markdown",
   "id": "5a46dadb-19ef-4ce7-9b10-27575a2afeca",
   "metadata": {},
   "source": [
    "RETURNING"
   ]
  },
  {
   "cell_type": "code",
   "execution_count": null,
   "id": "6912676e-fa70-4470-b99a-1d95ef924c63",
   "metadata": {},
   "outputs": [
    {
     "data": {
      "text/plain": [
       "57"
      ]
     },
     "execution_count": null,
     "metadata": {},
     "output_type": "execute_result"
    }
   ],
   "source": [
    "q = SQLQueue(\"pop_bench.db\", maxsize=None)\n",
    "\n",
    "q.pop = q._pop_returning\n",
    "\n",
    "gc.collect()"
   ]
  },
  {
   "cell_type": "code",
   "execution_count": null,
   "id": "befebec3-5121-4307-8b99-114bcdcde00e",
   "metadata": {},
   "outputs": [],
   "source": [
    "for _ in range(10000):\n",
    "    tid = random_string(60)\n",
    "\n",
    "    q.put(tid)"
   ]
  },
  {
   "cell_type": "code",
   "execution_count": null,
   "id": "b10792da-4e14-48c8-a0a3-49dd0d8c88f2",
   "metadata": {},
   "outputs": [
    {
     "name": "stdout",
     "output_type": "stream",
     "text": [
      "CPU times: user 557 ms, sys: 712 ms, total: 1.27 s\n",
      "Wall time: 2.15 s\n"
     ]
    }
   ],
   "source": [
    "%%time\n",
    "\n",
    "\n",
    "for _ in range(8000):\n",
    "    task = q.pop()"
   ]
  },
  {
   "cell_type": "code",
   "execution_count": null,
   "id": "de39ae70-eb47-40bf-b40d-7f9191eee19c",
   "metadata": {},
   "outputs": [],
   "source": [
    "!rm pop_bench.db*"
   ]
  },
  {
   "cell_type": "code",
   "execution_count": null,
   "id": "0b1e42a8-7252-44c6-8cee-8305958a37c7",
   "metadata": {},
   "outputs": [
    {
     "data": {
      "text/plain": [
       "48"
      ]
     },
     "execution_count": null,
     "metadata": {},
     "output_type": "execute_result"
    }
   ],
   "source": [
    "q = SQLQueue(\"pop_bench.db\", maxsize=None)\n",
    "\n",
    "q.pop = q._pop_transaction\n",
    "\n",
    "gc.collect()"
   ]
  },
  {
   "cell_type": "code",
   "execution_count": null,
   "id": "7a2a683a-c23b-49ad-a0d3-93e2b5285ac4",
   "metadata": {},
   "outputs": [],
   "source": [
    "for _ in range(10000):\n",
    "    tid = random_string(60)\n",
    "\n",
    "    q.put(tid)"
   ]
  },
  {
   "cell_type": "code",
   "execution_count": null,
   "id": "9aa1480c-9421-4c8c-987b-0849de239161",
   "metadata": {},
   "outputs": [
    {
     "name": "stdout",
     "output_type": "stream",
     "text": [
      "CPU times: user 7.75 s, sys: 781 ms, total: 8.53 s\n",
      "Wall time: 9.08 s\n"
     ]
    }
   ],
   "source": [
    "%%time\n",
    "\n",
    "\n",
    "for _ in range(8000):\n",
    "    task = q.pop()"
   ]
  },
  {
   "cell_type": "code",
   "execution_count": null,
   "id": "90e466fe-4b50-471c-96e1-51826713479f",
   "metadata": {},
   "outputs": [],
   "source": [
    "!rm pop_bench.db*"
   ]
  },
  {
   "cell_type": "code",
   "execution_count": null,
   "id": "97195b64-7bdd-46f3-a4ad-1f4bf284ee07",
   "metadata": {},
   "outputs": [],
   "source": []
  }
 ],
 "metadata": {
  "kernelspec": {
   "display_name": "Python 3",
   "language": "python",
   "name": "python3"
  }
 },
 "nbformat": 4,
 "nbformat_minor": 5
}
