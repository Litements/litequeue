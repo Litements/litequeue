{
 "cells": [
  {
   "cell_type": "code",
   "execution_count": 1,
   "id": "coastal-taxation",
   "metadata": {},
   "outputs": [],
   "source": [
    "%load_ext autoreload\n",
    "%autoreload 2"
   ]
  },
  {
   "cell_type": "code",
   "execution_count": 2,
   "id": "optical-government",
   "metadata": {},
   "outputs": [],
   "source": [
    "from litequeue import SQLQueue\n",
    "\n",
    "import sqlite3"
   ]
  },
  {
   "cell_type": "code",
   "execution_count": 3,
   "id": "portuguese-wages",
   "metadata": {},
   "outputs": [],
   "source": [
    "TEST_1 = \"key_test_1\"\n",
    "TEST_2 = \"key_test_2\""
   ]
  },
  {
   "cell_type": "code",
   "execution_count": 4,
   "id": "convertible-parent",
   "metadata": {},
   "outputs": [],
   "source": [
    "for conn_type_kwargs in (\n",
    "    {\"filename_or_conn\": sqlite3.connect(\":memory:\")},\n",
    "    {\"filename_or_conn\": \":memory:\"},\n",
    "    {\"memory\": True},\n",
    "):\n",
    "    q = SQLQueue(**conn_type_kwargs)\n",
    "    assert (\n",
    "        q.conn.isolation_level is None\n",
    "    ), f\"Isolation level not set properly for connection '{conn_type_kwargs}'\""
   ]
  },
  {
   "cell_type": "code",
   "execution_count": 5,
   "id": "subsequent-router",
   "metadata": {},
   "outputs": [
    {
     "data": {
      "text/plain": [
       "4"
      ]
     },
     "execution_count": 5,
     "metadata": {},
     "output_type": "execute_result"
    }
   ],
   "source": [
    "q = SQLQueue(sqlite3.connect(\":memory:\"))\n",
    "\n",
    "q.put(\"hello\")\n",
    "q.put(\"world\")\n",
    "q.put(\"foo\")\n",
    "q.put(\"bar\")"
   ]
  },
  {
   "cell_type": "code",
   "execution_count": 6,
   "id": "hispanic-joshua",
   "metadata": {},
   "outputs": [
    {
     "data": {
      "text/plain": [
       "{'message': 'hello', 'message_id': '706201f6e89e7c81aa77e57d49396380'}"
      ]
     },
     "execution_count": 6,
     "metadata": {},
     "output_type": "execute_result"
    }
   ],
   "source": [
    "q.pop()"
   ]
  },
  {
   "cell_type": "code",
   "execution_count": 7,
   "id": "taken-clark",
   "metadata": {},
   "outputs": [
    {
     "name": "stdout",
     "output_type": "stream",
     "text": [
      "SQLQueue(Connection=<sqlite3.Connection object at 0x7fa29c5f3730>, items=[{'done_time': None,\n",
      "  'in_time': 1617129949,\n",
      "  'lock_time': 1617129949,\n",
      "  'message': 'hello',\n",
      "  'message_id': '706201f6e89e7c81aa77e57d49396380',\n",
      "  'status': 1},\n",
      " {'done_time': None,\n",
      "  'in_time': 1617129949,\n",
      "  'lock_time': None,\n",
      "  'message': 'world',\n",
      "  'message_id': '78c5ac43ede9a8edbf88a9ff0300e568',\n",
      "  'status': 0},\n",
      " {'done_time': None,\n",
      "  'in_time': 1617129949,\n",
      "  'lock_time': None,\n",
      "  'message': 'foo',\n",
      "  'message_id': 'bf6a9c04d08637c62347d5406ec03fbd',\n",
      "  'status': 0},\n",
      " {'done_time': None,\n",
      "  'in_time': 1617129949,\n",
      "  'lock_time': None,\n",
      "  'message': 'bar',\n",
      "  'message_id': '09b99e844d29cf1511492697b26e6309',\n",
      "  'status': 0}])\n"
     ]
    }
   ],
   "source": [
    "print(q)"
   ]
  },
  {
   "cell_type": "code",
   "execution_count": 8,
   "id": "conventional-english",
   "metadata": {},
   "outputs": [],
   "source": [
    "# pop remaining\n",
    "for _ in range(3):\n",
    "    q.pop()\n",
    "\n",
    "\n",
    "assert q.pop() is None"
   ]
  },
  {
   "cell_type": "code",
   "execution_count": 9,
   "id": "resident-conditioning",
   "metadata": {},
   "outputs": [
    {
     "name": "stdout",
     "output_type": "stream",
     "text": [
      "SQLQueue(Connection=<sqlite3.Connection object at 0x7fa29c5f3730>, items=[{'done_time': None,\n",
      "  'in_time': 1617129949,\n",
      "  'lock_time': 1617129949,\n",
      "  'message': 'hello',\n",
      "  'message_id': '706201f6e89e7c81aa77e57d49396380',\n",
      "  'status': 1},\n",
      " {'done_time': None,\n",
      "  'in_time': 1617129949,\n",
      "  'lock_time': 1617129949,\n",
      "  'message': 'world',\n",
      "  'message_id': '78c5ac43ede9a8edbf88a9ff0300e568',\n",
      "  'status': 1},\n",
      " {'done_time': None,\n",
      "  'in_time': 1617129949,\n",
      "  'lock_time': 1617129949,\n",
      "  'message': 'foo',\n",
      "  'message_id': 'bf6a9c04d08637c62347d5406ec03fbd',\n",
      "  'status': 1},\n",
      " {'done_time': None,\n",
      "  'in_time': 1617129949,\n",
      "  'lock_time': 1617129949,\n",
      "  'message': 'bar',\n",
      "  'message_id': '09b99e844d29cf1511492697b26e6309',\n",
      "  'status': 1}])\n"
     ]
    }
   ],
   "source": [
    "print(q)"
   ]
  },
  {
   "cell_type": "code",
   "execution_count": 10,
   "id": "manual-submission",
   "metadata": {},
   "outputs": [
    {
     "data": {
      "text/plain": [
       "8"
      ]
     },
     "execution_count": 10,
     "metadata": {},
     "output_type": "execute_result"
    }
   ],
   "source": [
    "q.put(\"hello\")\n",
    "q.put(\"world\")\n",
    "q.put(\"foo\")\n",
    "q.put(\"bar\")"
   ]
  },
  {
   "cell_type": "code",
   "execution_count": 11,
   "id": "contrary-occupation",
   "metadata": {},
   "outputs": [],
   "source": [
    "task = q.pop()\n",
    "\n",
    "assert task[\"message\"] == \"hello\""
   ]
  },
  {
   "cell_type": "code",
   "execution_count": 12,
   "id": "eastern-bernard",
   "metadata": {},
   "outputs": [
    {
     "data": {
      "text/plain": [
       "{'message': 'world',\n",
       " 'message_id': '7d65a7f851364e85d805d6a30d5c3dbd',\n",
       " 'status': 0,\n",
       " 'in_time': 1617129949,\n",
       " 'lock_time': None,\n",
       " 'done_time': None}"
      ]
     },
     "execution_count": 12,
     "metadata": {},
     "output_type": "execute_result"
    }
   ],
   "source": [
    "q.peek()"
   ]
  },
  {
   "cell_type": "code",
   "execution_count": 13,
   "id": "passing-drill",
   "metadata": {},
   "outputs": [],
   "source": [
    "# next one that is free\n",
    "assert q.peek()[\"message\"] == \"world\"\n",
    "\n",
    "# status = 0 = free\n",
    "assert q.peek()[\"status\"] == 0"
   ]
  },
  {
   "cell_type": "code",
   "execution_count": 14,
   "id": "affiliated-eligibility",
   "metadata": {},
   "outputs": [
    {
     "data": {
      "text/plain": [
       "('hello', '5b515520ff3525190e9c8d928c266dcf')"
      ]
     },
     "execution_count": 14,
     "metadata": {},
     "output_type": "execute_result"
    }
   ],
   "source": [
    "task[\"message\"], task[\"message_id\"]"
   ]
  },
  {
   "cell_type": "code",
   "execution_count": 15,
   "id": "grateful-chosen",
   "metadata": {},
   "outputs": [
    {
     "data": {
      "text/plain": [
       "8"
      ]
     },
     "execution_count": 15,
     "metadata": {},
     "output_type": "execute_result"
    }
   ],
   "source": [
    "q.done(task[\"message_id\"])"
   ]
  },
  {
   "cell_type": "code",
   "execution_count": 16,
   "id": "latest-actress",
   "metadata": {},
   "outputs": [
    {
     "data": {
      "text/plain": [
       "{'message': 'hello',\n",
       " 'message_id': '5b515520ff3525190e9c8d928c266dcf',\n",
       " 'status': 2,\n",
       " 'in_time': 1617129949,\n",
       " 'lock_time': 1617129949,\n",
       " 'done_time': 1617129949}"
      ]
     },
     "execution_count": 16,
     "metadata": {},
     "output_type": "execute_result"
    }
   ],
   "source": [
    "q.get(task[\"message_id\"])"
   ]
  },
  {
   "cell_type": "code",
   "execution_count": 17,
   "id": "consistent-pound",
   "metadata": {},
   "outputs": [
    {
     "name": "stdout",
     "output_type": "stream",
     "text": [
      "Task 5b515520ff3525190e9c8d928c266dcf took 0 seconds to get done and was in the queue for 0 seconds\n"
     ]
    }
   ],
   "source": [
    "already_done = q.get(task[\"message_id\"])\n",
    "\n",
    "# stauts = 2 = done\n",
    "assert already_done[\"status\"] == 2\n",
    "\n",
    "in_time = already_done[\"in_time\"]\n",
    "lock_time = already_done[\"lock_time\"]\n",
    "done_time = already_done[\"done_time\"]\n",
    "\n",
    "assert done_time >= lock_time >= in_time\n",
    "print(\n",
    "    f\"Task {already_done['message_id']} took {done_time - lock_time} seconds to get done and was in the queue for {done_time - in_time} seconds\"\n",
    ")"
   ]
  },
  {
   "cell_type": "code",
   "execution_count": 18,
   "id": "sharp-hypothesis",
   "metadata": {},
   "outputs": [
    {
     "name": "stdout",
     "output_type": "stream",
     "text": [
      "SQLQueue(Connection=<sqlite3.Connection object at 0x7fa29c5f3730>, items=[{'done_time': None,\n",
      "  'in_time': 1617129949,\n",
      "  'lock_time': 1617129949,\n",
      "  'message': 'hello',\n",
      "  'message_id': '706201f6e89e7c81aa77e57d49396380',\n",
      "  'status': 1},\n",
      " {'done_time': None,\n",
      "  'in_time': 1617129949,\n",
      "  'lock_time': 1617129949,\n",
      "  'message': 'world',\n",
      "  'message_id': '78c5ac43ede9a8edbf88a9ff0300e568',\n",
      "  'status': 1},\n",
      " {'done_time': None,\n",
      "  'in_time': 1617129949,\n",
      "  'lock_time': 1617129949,\n",
      "  'message': 'foo',\n",
      "  'message_id': 'bf6a9c04d08637c62347d5406ec03fbd',\n",
      "  'status': 1},\n",
      " {'done_time': None,\n",
      "  'in_time': 1617129949,\n",
      "  'lock_time': 1617129949,\n",
      "  'message': 'bar',\n",
      "  'message_id': '09b99e844d29cf1511492697b26e6309',\n",
      "  'status': 1},\n",
      " {'done_time': 1617129949,\n",
      "  'in_time': 1617129949,\n",
      "  'lock_time': 1617129949,\n",
      "  'message': 'hello',\n",
      "  'message_id': '5b515520ff3525190e9c8d928c266dcf',\n",
      "  'status': 2},\n",
      " {'done_time': None,\n",
      "  'in_time': 1617129949,\n",
      "  'lock_time': None,\n",
      "  'message': 'world',\n",
      "  'message_id': '7d65a7f851364e85d805d6a30d5c3dbd',\n",
      "  'status': 0},\n",
      " {'done_time': None,\n",
      "  'in_time': 1617129949,\n",
      "  'lock_time': None,\n",
      "  'message': 'foo',\n",
      "  'message_id': '84002c491914fa4bb0f19bb71352b296',\n",
      "  'status': 0},\n",
      " {'done_time': None,\n",
      "  'in_time': 1617129949,\n",
      "  'lock_time': None,\n",
      "  'message': 'bar',\n",
      "  'message_id': 'b1c2901f012b1d5f779a72f969b875da',\n",
      "  'status': 0}])\n"
     ]
    }
   ],
   "source": [
    "print(q)"
   ]
  },
  {
   "cell_type": "code",
   "execution_count": 19,
   "id": "sudden-regression",
   "metadata": {},
   "outputs": [],
   "source": [
    "assert q.qsize() == 7"
   ]
  },
  {
   "cell_type": "code",
   "execution_count": 20,
   "id": "starting-knock",
   "metadata": {},
   "outputs": [],
   "source": [
    "next_one_msg = q.peek()[\"message\"]\n",
    "next_one_id = q.peek()[\"message_id\"]\n",
    "\n",
    "task = q.pop()\n",
    "\n",
    "assert task[\"message\"] == next_one_msg\n",
    "assert task[\"message_id\"] == next_one_id"
   ]
  },
  {
   "cell_type": "code",
   "execution_count": 21,
   "id": "relative-brunswick",
   "metadata": {},
   "outputs": [
    {
     "name": "stdout",
     "output_type": "stream",
     "text": [
      "SQLQueue(Connection=<sqlite3.Connection object at 0x7fa29c5f3730>, items=[{'done_time': None,\n",
      "  'in_time': 1617129949,\n",
      "  'lock_time': 1617129949,\n",
      "  'message': 'hello',\n",
      "  'message_id': '706201f6e89e7c81aa77e57d49396380',\n",
      "  'status': 1},\n",
      " {'done_time': None,\n",
      "  'in_time': 1617129949,\n",
      "  'lock_time': 1617129949,\n",
      "  'message': 'world',\n",
      "  'message_id': '78c5ac43ede9a8edbf88a9ff0300e568',\n",
      "  'status': 1},\n",
      " {'done_time': None,\n",
      "  'in_time': 1617129949,\n",
      "  'lock_time': 1617129949,\n",
      "  'message': 'foo',\n",
      "  'message_id': 'bf6a9c04d08637c62347d5406ec03fbd',\n",
      "  'status': 1},\n",
      " {'done_time': None,\n",
      "  'in_time': 1617129949,\n",
      "  'lock_time': 1617129949,\n",
      "  'message': 'bar',\n",
      "  'message_id': '09b99e844d29cf1511492697b26e6309',\n",
      "  'status': 1},\n",
      " {'done_time': 1617129949,\n",
      "  'in_time': 1617129949,\n",
      "  'lock_time': 1617129949,\n",
      "  'message': 'hello',\n",
      "  'message_id': '5b515520ff3525190e9c8d928c266dcf',\n",
      "  'status': 2},\n",
      " {'done_time': None,\n",
      "  'in_time': 1617129949,\n",
      "  'lock_time': 1617129950,\n",
      "  'message': 'world',\n",
      "  'message_id': '7d65a7f851364e85d805d6a30d5c3dbd',\n",
      "  'status': 1},\n",
      " {'done_time': None,\n",
      "  'in_time': 1617129949,\n",
      "  'lock_time': None,\n",
      "  'message': 'foo',\n",
      "  'message_id': '84002c491914fa4bb0f19bb71352b296',\n",
      "  'status': 0},\n",
      " {'done_time': None,\n",
      "  'in_time': 1617129949,\n",
      "  'lock_time': None,\n",
      "  'message': 'bar',\n",
      "  'message_id': 'b1c2901f012b1d5f779a72f969b875da',\n",
      "  'status': 0}])\n"
     ]
    }
   ],
   "source": [
    "print(q)"
   ]
  },
  {
   "cell_type": "code",
   "execution_count": 22,
   "id": "regional-visibility",
   "metadata": {},
   "outputs": [],
   "source": [
    "q.prune()"
   ]
  },
  {
   "cell_type": "code",
   "execution_count": 23,
   "id": "tribal-queens",
   "metadata": {},
   "outputs": [
    {
     "name": "stdout",
     "output_type": "stream",
     "text": [
      "SQLQueue(Connection=<sqlite3.Connection object at 0x7fa29c5f3730>, items=[{'done_time': None,\n",
      "  'in_time': 1617129949,\n",
      "  'lock_time': 1617129949,\n",
      "  'message': 'hello',\n",
      "  'message_id': '706201f6e89e7c81aa77e57d49396380',\n",
      "  'status': 1},\n",
      " {'done_time': None,\n",
      "  'in_time': 1617129949,\n",
      "  'lock_time': 1617129949,\n",
      "  'message': 'world',\n",
      "  'message_id': '78c5ac43ede9a8edbf88a9ff0300e568',\n",
      "  'status': 1},\n",
      " {'done_time': None,\n",
      "  'in_time': 1617129949,\n",
      "  'lock_time': 1617129949,\n",
      "  'message': 'foo',\n",
      "  'message_id': 'bf6a9c04d08637c62347d5406ec03fbd',\n",
      "  'status': 1},\n",
      " {'done_time': None,\n",
      "  'in_time': 1617129949,\n",
      "  'lock_time': 1617129949,\n",
      "  'message': 'bar',\n",
      "  'message_id': '09b99e844d29cf1511492697b26e6309',\n",
      "  'status': 1},\n",
      " {'done_time': None,\n",
      "  'in_time': 1617129949,\n",
      "  'lock_time': 1617129950,\n",
      "  'message': 'world',\n",
      "  'message_id': '7d65a7f851364e85d805d6a30d5c3dbd',\n",
      "  'status': 1},\n",
      " {'done_time': None,\n",
      "  'in_time': 1617129949,\n",
      "  'lock_time': None,\n",
      "  'message': 'foo',\n",
      "  'message_id': '84002c491914fa4bb0f19bb71352b296',\n",
      "  'status': 0},\n",
      " {'done_time': None,\n",
      "  'in_time': 1617129949,\n",
      "  'lock_time': None,\n",
      "  'message': 'bar',\n",
      "  'message_id': 'b1c2901f012b1d5f779a72f969b875da',\n",
      "  'status': 0}])\n"
     ]
    }
   ],
   "source": [
    "print(q)"
   ]
  },
  {
   "cell_type": "code",
   "execution_count": 24,
   "id": "premium-design",
   "metadata": {},
   "outputs": [],
   "source": [
    "from string import ascii_lowercase, printable\n",
    "from random import choice\n",
    "\n",
    "\n",
    "def random_string(string_length=10, fuzz=False, space=False):\n",
    "    \"\"\"Generate a random string of fixed length \"\"\"\n",
    "    letters = ascii_lowercase\n",
    "    letters = letters + \" \" if space else letters\n",
    "    if fuzz:\n",
    "        letters = printable\n",
    "    return \"\".join(choice(letters) for i in range(string_length))"
   ]
  },
  {
   "cell_type": "code",
   "execution_count": 25,
   "id": "informed-bulletin",
   "metadata": {},
   "outputs": [],
   "source": [
    "q = SQLQueue(\":memory:\", maxsize=50)"
   ]
  },
  {
   "cell_type": "code",
   "execution_count": 26,
   "id": "frequent-selling",
   "metadata": {},
   "outputs": [],
   "source": [
    "for i in range(50):\n",
    "\n",
    "    q.put(random_string(20))"
   ]
  },
  {
   "cell_type": "code",
   "execution_count": 27,
   "id": "orange-maximum",
   "metadata": {},
   "outputs": [],
   "source": [
    "assert q.qsize() == 50"
   ]
  },
  {
   "cell_type": "markdown",
   "id": "southwest-optimum",
   "metadata": {},
   "source": [
    "Make sure an error is raised when the queue has reached its size limit"
   ]
  },
  {
   "cell_type": "code",
   "execution_count": 28,
   "id": "junior-inventory",
   "metadata": {},
   "outputs": [
    {
     "name": "stdout",
     "output_type": "stream",
     "text": [
      "test pass\n"
     ]
    }
   ],
   "source": [
    "import sqlite3\n",
    "\n",
    "try:\n",
    "    q.put(random_string(20))\n",
    "except sqlite3.IntegrityError:  # max len reached\n",
    "    assert q.full() == True\n",
    "    print(\"test pass\")"
   ]
  },
  {
   "cell_type": "code",
   "execution_count": 29,
   "id": "personalized-syndication",
   "metadata": {},
   "outputs": [
    {
     "data": {
      "text/plain": [
       "{'message': 'nhqzsrzkgoqenpbrjlex',\n",
       " 'message_id': '78c2d613848fd2bdcac9d5087eaa2e18'}"
      ]
     },
     "execution_count": 29,
     "metadata": {},
     "output_type": "execute_result"
    }
   ],
   "source": [
    "q.pop()"
   ]
  },
  {
   "cell_type": "code",
   "execution_count": 30,
   "id": "surprised-purple",
   "metadata": {},
   "outputs": [],
   "source": [
    "assert q.full() == False"
   ]
  },
  {
   "cell_type": "code",
   "execution_count": 31,
   "id": "bottom-wireless",
   "metadata": {},
   "outputs": [
    {
     "data": {
      "text/plain": [
       "51"
      ]
     },
     "execution_count": 31,
     "metadata": {},
     "output_type": "execute_result"
    }
   ],
   "source": [
    "q.put(\"hello\")"
   ]
  },
  {
   "cell_type": "code",
   "execution_count": 32,
   "id": "removed-terrorist",
   "metadata": {},
   "outputs": [
    {
     "data": {
      "text/plain": [
       "False"
      ]
     },
     "execution_count": 32,
     "metadata": {},
     "output_type": "execute_result"
    }
   ],
   "source": [
    "q.empty()"
   ]
  },
  {
   "cell_type": "code",
   "execution_count": 33,
   "id": "textile-identification",
   "metadata": {},
   "outputs": [],
   "source": [
    "assert q.empty() == False\n",
    "\n",
    "q2 = SQLQueue(\":memory:\")\n",
    "\n",
    "assert q2.empty() == True"
   ]
  },
  {
   "cell_type": "markdown",
   "id": "original-process",
   "metadata": {},
   "source": [
    "**Random benchmarks**\n",
    "\n",
    "Inserting 100 items in the queue. Since it will run many times, the queue will end up having a lot more than 100 items"
   ]
  },
  {
   "cell_type": "code",
   "execution_count": 34,
   "id": "final-subject",
   "metadata": {},
   "outputs": [],
   "source": [
    "import gc"
   ]
  },
  {
   "cell_type": "markdown",
   "id": "nervous-clearance",
   "metadata": {},
   "source": [
    "In-memory SQL queue"
   ]
  },
  {
   "cell_type": "code",
   "execution_count": 35,
   "id": "center-adventure",
   "metadata": {},
   "outputs": [],
   "source": [
    "q = SQLQueue(\":memory:\", maxsize=None)"
   ]
  },
  {
   "cell_type": "code",
   "execution_count": 36,
   "id": "guilty-longitude",
   "metadata": {},
   "outputs": [
    {
     "data": {
      "text/plain": [
       "264"
      ]
     },
     "execution_count": 36,
     "metadata": {},
     "output_type": "execute_result"
    }
   ],
   "source": [
    "gc.collect()"
   ]
  },
  {
   "cell_type": "code",
   "execution_count": 37,
   "id": "about-handling",
   "metadata": {},
   "outputs": [
    {
     "name": "stdout",
     "output_type": "stream",
     "text": [
      "43.7 µs ± 6.83 µs per loop (mean ± std. dev. of 7 runs, 10000 loops each)\n"
     ]
    }
   ],
   "source": [
    "%%timeit -n10000 -r7\n",
    "\n",
    "q.put(random_string(20))"
   ]
  },
  {
   "cell_type": "code",
   "execution_count": 38,
   "id": "manufactured-visit",
   "metadata": {},
   "outputs": [
    {
     "data": {
      "text/plain": [
       "70000"
      ]
     },
     "execution_count": 38,
     "metadata": {},
     "output_type": "execute_result"
    }
   ],
   "source": [
    "q.qsize()"
   ]
  },
  {
   "cell_type": "markdown",
   "id": "special-cherry",
   "metadata": {},
   "source": [
    "Standard python queue."
   ]
  },
  {
   "cell_type": "code",
   "execution_count": 39,
   "id": "architectural-diversity",
   "metadata": {},
   "outputs": [],
   "source": [
    "from queue import Queue"
   ]
  },
  {
   "cell_type": "code",
   "execution_count": 40,
   "id": "automotive-kentucky",
   "metadata": {},
   "outputs": [],
   "source": [
    "q = Queue()"
   ]
  },
  {
   "cell_type": "code",
   "execution_count": 41,
   "id": "dietary-password",
   "metadata": {},
   "outputs": [
    {
     "data": {
      "text/plain": [
       "113"
      ]
     },
     "execution_count": 41,
     "metadata": {},
     "output_type": "execute_result"
    }
   ],
   "source": [
    "gc.collect()"
   ]
  },
  {
   "cell_type": "code",
   "execution_count": 42,
   "id": "civic-whole",
   "metadata": {},
   "outputs": [
    {
     "name": "stdout",
     "output_type": "stream",
     "text": [
      "20.3 µs ± 1.96 µs per loop (mean ± std. dev. of 7 runs, 10000 loops each)\n"
     ]
    }
   ],
   "source": [
    "%%timeit -n10000 -r7\n",
    "\n",
    "q.put(random_string(20))"
   ]
  },
  {
   "cell_type": "markdown",
   "id": "determined-brick",
   "metadata": {},
   "source": [
    "Persistent SQL queue"
   ]
  },
  {
   "cell_type": "code",
   "execution_count": 43,
   "id": "fabulous-quarter",
   "metadata": {},
   "outputs": [],
   "source": [
    "q = SQLQueue(\"test.queue\", maxsize=None)"
   ]
  },
  {
   "cell_type": "code",
   "execution_count": 44,
   "id": "remarkable-governor",
   "metadata": {},
   "outputs": [
    {
     "data": {
      "text/plain": [
       "69"
      ]
     },
     "execution_count": 44,
     "metadata": {},
     "output_type": "execute_result"
    }
   ],
   "source": [
    "gc.collect()"
   ]
  },
  {
   "cell_type": "code",
   "execution_count": 45,
   "id": "twenty-bacteria",
   "metadata": {},
   "outputs": [
    {
     "name": "stdout",
     "output_type": "stream",
     "text": [
      "156 µs ± 11.9 µs per loop (mean ± std. dev. of 7 runs, 10000 loops each)\n"
     ]
    }
   ],
   "source": [
    "%%timeit -n10000 -r7\n",
    "\n",
    "q.put(random_string(20))"
   ]
  },
  {
   "cell_type": "code",
   "execution_count": 46,
   "id": "governmental-discretion",
   "metadata": {},
   "outputs": [
    {
     "name": "stdout",
     "output_type": "stream",
     "text": [
      "9.1M\ttest.queue\n",
      "32K\ttest.queue-shm\n",
      "5.0M\ttest.queue-wal\n"
     ]
    }
   ],
   "source": [
    "!du -sh test.queue*"
   ]
  },
  {
   "cell_type": "code",
   "execution_count": 47,
   "id": "administrative-society",
   "metadata": {},
   "outputs": [],
   "source": [
    "!rm test.queue*"
   ]
  },
  {
   "cell_type": "code",
   "execution_count": 48,
   "id": "angry-cherry",
   "metadata": {},
   "outputs": [],
   "source": [
    "assert q.conn.isolation_level is None"
   ]
  },
  {
   "cell_type": "markdown",
   "id": "devoted-hepatitis",
   "metadata": {},
   "source": [
    "Creating and removing tasks"
   ]
  },
  {
   "cell_type": "code",
   "execution_count": 49,
   "id": "italic-poison",
   "metadata": {},
   "outputs": [],
   "source": [
    "q = Queue()"
   ]
  },
  {
   "cell_type": "code",
   "execution_count": 50,
   "id": "ultimate-gross",
   "metadata": {},
   "outputs": [
    {
     "data": {
      "text/plain": [
       "135"
      ]
     },
     "execution_count": 50,
     "metadata": {},
     "output_type": "execute_result"
    }
   ],
   "source": [
    "gc.collect()"
   ]
  },
  {
   "cell_type": "code",
   "execution_count": 51,
   "id": "exposed-framing",
   "metadata": {},
   "outputs": [
    {
     "name": "stdout",
     "output_type": "stream",
     "text": [
      "25.4 µs ± 2.84 µs per loop (mean ± std. dev. of 7 runs, 10000 loops each)\n"
     ]
    }
   ],
   "source": [
    "%%timeit -n10000 -r7\n",
    "\n",
    "tid = random_string(20)\n",
    "\n",
    "q.put(tid)\n",
    "\n",
    "q.get()\n",
    "\n",
    "q.task_done()"
   ]
  },
  {
   "cell_type": "code",
   "execution_count": 52,
   "id": "assisted-sunday",
   "metadata": {},
   "outputs": [],
   "source": [
    "q = SQLQueue(\":memory:\", maxsize=None)"
   ]
  },
  {
   "cell_type": "code",
   "execution_count": 53,
   "id": "faced-short",
   "metadata": {},
   "outputs": [
    {
     "data": {
      "text/plain": [
       "69"
      ]
     },
     "execution_count": 53,
     "metadata": {},
     "output_type": "execute_result"
    }
   ],
   "source": [
    "gc.collect()"
   ]
  },
  {
   "cell_type": "code",
   "execution_count": 54,
   "id": "understood-tobacco",
   "metadata": {},
   "outputs": [
    {
     "name": "stdout",
     "output_type": "stream",
     "text": [
      "94.9 µs ± 8.54 µs per loop (mean ± std. dev. of 7 runs, 10000 loops each)\n"
     ]
    }
   ],
   "source": [
    "%%timeit -n10000 -r7\n",
    "\n",
    "tid = random_string(20)\n",
    "\n",
    "q.put(tid)\n",
    "\n",
    "task = q.pop()\n",
    "\n",
    "q.done(task[\"message_id\"])"
   ]
  }
 ],
 "metadata": {
  "kernelspec": {
   "display_name": "Python 3",
   "language": "python",
   "name": "python3"
  },
  "language_info": {
   "codemirror_mode": {
    "name": "ipython",
    "version": 3
   },
   "file_extension": ".py",
   "mimetype": "text/x-python",
   "name": "python",
   "nbconvert_exporter": "python",
   "pygments_lexer": "ipython3",
   "version": "3.7.9"
  }
 },
 "nbformat": 4,
 "nbformat_minor": 5
}
