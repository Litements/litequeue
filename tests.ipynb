{
 "cells": [
  {
   "cell_type": "code",
   "execution_count": null,
   "id": "norman-software",
   "metadata": {},
   "outputs": [],
   "source": [
    "%load_ext autoreload\n",
    "%autoreload 2"
   ]
  },
  {
   "cell_type": "code",
   "execution_count": null,
   "id": "russian-muslim",
   "metadata": {},
   "outputs": [],
   "source": [
    "from litequeue import SQLQueue\n",
    "\n",
    "import sqlite3"
   ]
  },
  {
   "cell_type": "code",
   "execution_count": null,
   "id": "failing-tobacco",
   "metadata": {},
   "outputs": [],
   "source": [
    "TEST_1 = \"key_test_1\"\n",
    "TEST_2 = \"key_test_2\""
   ]
  },
  {
   "cell_type": "code",
   "execution_count": null,
   "id": "facial-armstrong",
   "metadata": {},
   "outputs": [],
   "source": [
    "for conn_type_kwargs in (\n",
    "    {\"filename_or_conn\": sqlite3.connect(\":memory:\")},\n",
    "    {\"filename_or_conn\": \":memory:\"},\n",
    "    {\"memory\": True},\n",
    "):\n",
    "    q = SQLQueue(**conn_type_kwargs)\n",
    "    assert (\n",
    "        q.conn.isolation_level is None\n",
    "    ), f\"Isolation level not set properly for connection '{conn_type_kwargs}'\""
   ]
  },
  {
   "cell_type": "code",
   "execution_count": null,
   "id": "speaking-contamination",
   "metadata": {},
   "outputs": [
    {
     "data": {
      "text/plain": [
       "4"
      ]
     },
     "execution_count": null,
     "metadata": {},
     "output_type": "execute_result"
    }
   ],
   "source": [
    "q = SQLQueue(sqlite3.connect(\":memory:\"))\n",
    "\n",
    "q.put(\"hello\")\n",
    "q.put(\"world\")\n",
    "q.put(\"foo\")\n",
    "q.put(\"bar\")"
   ]
  },
  {
   "cell_type": "code",
   "execution_count": null,
   "id": "architectural-delhi",
   "metadata": {},
   "outputs": [
    {
     "data": {
      "text/plain": [
       "{'message': 'hello', 'message_id': '4098d9bda6a8f71cd085ecc28797675e'}"
      ]
     },
     "execution_count": null,
     "metadata": {},
     "output_type": "execute_result"
    }
   ],
   "source": [
    "q.pop()"
   ]
  },
  {
   "cell_type": "code",
   "execution_count": null,
   "id": "chronic-desert",
   "metadata": {},
   "outputs": [
    {
     "name": "stdout",
     "output_type": "stream",
     "text": [
      "SQLQueue(Connection=<sqlite3.Connection object at 0x7fae25cee730>, items=[{'done_time': None,\n",
      "  'in_time': 1615838997,\n",
      "  'lock_time': 1615838997,\n",
      "  'message': 'hello',\n",
      "  'message_id': '4098d9bda6a8f71cd085ecc28797675e',\n",
      "  'status': 1},\n",
      " {'done_time': None,\n",
      "  'in_time': 1615838997,\n",
      "  'lock_time': None,\n",
      "  'message': 'world',\n",
      "  'message_id': '39889bf2a5360878c0e9f786d88f38f7',\n",
      "  'status': 0},\n",
      " {'done_time': None,\n",
      "  'in_time': 1615838997,\n",
      "  'lock_time': None,\n",
      "  'message': 'foo',\n",
      "  'message_id': '1ee51cfbbf0c877e652e1bf052c27a08',\n",
      "  'status': 0},\n",
      " {'done_time': None,\n",
      "  'in_time': 1615838997,\n",
      "  'lock_time': None,\n",
      "  'message': 'bar',\n",
      "  'message_id': 'b1f150a87f683427f5223b37545c285d',\n",
      "  'status': 0}])\n"
     ]
    }
   ],
   "source": [
    "print(q)"
   ]
  },
  {
   "cell_type": "code",
   "execution_count": null,
   "id": "authentic-discretion",
   "metadata": {},
   "outputs": [],
   "source": [
    "# pop remaining\n",
    "for _ in range(3):\n",
    "    q.pop()\n",
    "\n",
    "\n",
    "assert q.pop() is None"
   ]
  },
  {
   "cell_type": "code",
   "execution_count": null,
   "id": "backed-hopkins",
   "metadata": {},
   "outputs": [
    {
     "name": "stdout",
     "output_type": "stream",
     "text": [
      "SQLQueue(Connection=<sqlite3.Connection object at 0x7fae25cee730>, items=[{'done_time': None,\n",
      "  'in_time': 1615838997,\n",
      "  'lock_time': 1615838997,\n",
      "  'message': 'hello',\n",
      "  'message_id': '4098d9bda6a8f71cd085ecc28797675e',\n",
      "  'status': 1},\n",
      " {'done_time': None,\n",
      "  'in_time': 1615838997,\n",
      "  'lock_time': 1615838997,\n",
      "  'message': 'world',\n",
      "  'message_id': '39889bf2a5360878c0e9f786d88f38f7',\n",
      "  'status': 1},\n",
      " {'done_time': None,\n",
      "  'in_time': 1615838997,\n",
      "  'lock_time': 1615838997,\n",
      "  'message': 'foo',\n",
      "  'message_id': '1ee51cfbbf0c877e652e1bf052c27a08',\n",
      "  'status': 1},\n",
      " {'done_time': None,\n",
      "  'in_time': 1615838997,\n",
      "  'lock_time': 1615838997,\n",
      "  'message': 'bar',\n",
      "  'message_id': 'b1f150a87f683427f5223b37545c285d',\n",
      "  'status': 1}])\n"
     ]
    }
   ],
   "source": [
    "print(q)"
   ]
  },
  {
   "cell_type": "code",
   "execution_count": null,
   "id": "offshore-contemporary",
   "metadata": {},
   "outputs": [
    {
     "data": {
      "text/plain": [
       "8"
      ]
     },
     "execution_count": null,
     "metadata": {},
     "output_type": "execute_result"
    }
   ],
   "source": [
    "q.put(\"hello\")\n",
    "q.put(\"world\")\n",
    "q.put(\"foo\")\n",
    "q.put(\"bar\")"
   ]
  },
  {
   "cell_type": "code",
   "execution_count": null,
   "id": "occupational-wheat",
   "metadata": {},
   "outputs": [],
   "source": [
    "task = q.pop()\n",
    "\n",
    "assert task[\"message\"] == \"hello\""
   ]
  },
  {
   "cell_type": "code",
   "execution_count": null,
   "id": "gross-parallel",
   "metadata": {},
   "outputs": [
    {
     "data": {
      "text/plain": [
       "{'message': 'world',\n",
       " 'message_id': '5192c5908bf9db658075698375ceae20',\n",
       " 'status': 0,\n",
       " 'in_time': 1615838997,\n",
       " 'lock_time': None,\n",
       " 'done_time': None}"
      ]
     },
     "execution_count": null,
     "metadata": {},
     "output_type": "execute_result"
    }
   ],
   "source": [
    "q.peek()"
   ]
  },
  {
   "cell_type": "code",
   "execution_count": null,
   "id": "important-plant",
   "metadata": {},
   "outputs": [],
   "source": [
    "# next one that is free\n",
    "assert q.peek()[\"message\"] == \"world\"\n",
    "\n",
    "# status = 0 = free\n",
    "assert q.peek()[\"status\"] == 0"
   ]
  },
  {
   "cell_type": "code",
   "execution_count": null,
   "id": "outer-trinidad",
   "metadata": {},
   "outputs": [
    {
     "data": {
      "text/plain": [
       "('hello', '8c60f8e06f40ec89b628475ac5460d9d')"
      ]
     },
     "execution_count": null,
     "metadata": {},
     "output_type": "execute_result"
    }
   ],
   "source": [
    "task[\"message\"], task[\"message_id\"]"
   ]
  },
  {
   "cell_type": "code",
   "execution_count": null,
   "id": "light-fruit",
   "metadata": {},
   "outputs": [
    {
     "data": {
      "text/plain": [
       "8"
      ]
     },
     "execution_count": null,
     "metadata": {},
     "output_type": "execute_result"
    }
   ],
   "source": [
    "q.done(task[\"message_id\"])"
   ]
  },
  {
   "cell_type": "code",
   "execution_count": null,
   "id": "iraqi-chicago",
   "metadata": {},
   "outputs": [
    {
     "data": {
      "text/plain": [
       "{'message': 'hello',\n",
       " 'message_id': '8c60f8e06f40ec89b628475ac5460d9d',\n",
       " 'status': 2,\n",
       " 'in_time': 1615838997,\n",
       " 'lock_time': 1615838997,\n",
       " 'done_time': 1615838997}"
      ]
     },
     "execution_count": null,
     "metadata": {},
     "output_type": "execute_result"
    }
   ],
   "source": [
    "q.get(task[\"message_id\"])"
   ]
  },
  {
   "cell_type": "code",
   "execution_count": null,
   "id": "breeding-fishing",
   "metadata": {},
   "outputs": [
    {
     "name": "stdout",
     "output_type": "stream",
     "text": [
      "Task 8c60f8e06f40ec89b628475ac5460d9d took 0 seconds to get done and was in the queue for 0 seconds\n"
     ]
    }
   ],
   "source": [
    "already_done = q.get(task[\"message_id\"])\n",
    "\n",
    "# stauts = 2 = done\n",
    "assert already_done[\"status\"] == 2\n",
    "\n",
    "in_time = already_done[\"in_time\"]\n",
    "lock_time = already_done[\"lock_time\"]\n",
    "done_time = already_done[\"done_time\"]\n",
    "\n",
    "assert done_time >= lock_time >= in_time\n",
    "print(\n",
    "    f\"Task {already_done['message_id']} took {done_time - lock_time} seconds to get done and was in the queue for {done_time - in_time} seconds\"\n",
    ")"
   ]
  },
  {
   "cell_type": "code",
   "execution_count": null,
   "id": "atlantic-detroit",
   "metadata": {},
   "outputs": [
    {
     "name": "stdout",
     "output_type": "stream",
     "text": [
      "SQLQueue(Connection=<sqlite3.Connection object at 0x7fae25cee730>, items=[{'done_time': None,\n",
      "  'in_time': 1615838997,\n",
      "  'lock_time': 1615838997,\n",
      "  'message': 'hello',\n",
      "  'message_id': '4098d9bda6a8f71cd085ecc28797675e',\n",
      "  'status': 1},\n",
      " {'done_time': None,\n",
      "  'in_time': 1615838997,\n",
      "  'lock_time': 1615838997,\n",
      "  'message': 'world',\n",
      "  'message_id': '39889bf2a5360878c0e9f786d88f38f7',\n",
      "  'status': 1},\n",
      " {'done_time': None,\n",
      "  'in_time': 1615838997,\n",
      "  'lock_time': 1615838997,\n",
      "  'message': 'foo',\n",
      "  'message_id': '1ee51cfbbf0c877e652e1bf052c27a08',\n",
      "  'status': 1},\n",
      " {'done_time': None,\n",
      "  'in_time': 1615838997,\n",
      "  'lock_time': 1615838997,\n",
      "  'message': 'bar',\n",
      "  'message_id': 'b1f150a87f683427f5223b37545c285d',\n",
      "  'status': 1},\n",
      " {'done_time': 1615838997,\n",
      "  'in_time': 1615838997,\n",
      "  'lock_time': 1615838997,\n",
      "  'message': 'hello',\n",
      "  'message_id': '8c60f8e06f40ec89b628475ac5460d9d',\n",
      "  'status': 2},\n",
      " {'done_time': None,\n",
      "  'in_time': 1615838997,\n",
      "  'lock_time': None,\n",
      "  'message': 'world',\n",
      "  'message_id': '5192c5908bf9db658075698375ceae20',\n",
      "  'status': 0},\n",
      " {'done_time': None,\n",
      "  'in_time': 1615838997,\n",
      "  'lock_time': None,\n",
      "  'message': 'foo',\n",
      "  'message_id': '725d32ef93c3d5d2e5e6714676611102',\n",
      "  'status': 0},\n",
      " {'done_time': None,\n",
      "  'in_time': 1615838997,\n",
      "  'lock_time': None,\n",
      "  'message': 'bar',\n",
      "  'message_id': '49819e3b77272a187e7017d12f201fb2',\n",
      "  'status': 0}])\n"
     ]
    }
   ],
   "source": [
    "print(q)"
   ]
  },
  {
   "cell_type": "code",
   "execution_count": null,
   "id": "religious-samba",
   "metadata": {},
   "outputs": [],
   "source": [
    "assert q.qsize() == 7"
   ]
  },
  {
   "cell_type": "code",
   "execution_count": null,
   "id": "greater-korean",
   "metadata": {},
   "outputs": [],
   "source": [
    "next_one_msg = q.peek()[\"message\"]\n",
    "next_one_id = q.peek()[\"message_id\"]\n",
    "\n",
    "task = q.pop()\n",
    "\n",
    "assert task[\"message\"] == next_one_msg\n",
    "assert task[\"message_id\"] == next_one_id"
   ]
  },
  {
   "cell_type": "code",
   "execution_count": null,
   "id": "corrected-efficiency",
   "metadata": {},
   "outputs": [
    {
     "name": "stdout",
     "output_type": "stream",
     "text": [
      "SQLQueue(Connection=<sqlite3.Connection object at 0x7fae25cee730>, items=[{'done_time': None,\n",
      "  'in_time': 1615838997,\n",
      "  'lock_time': 1615838997,\n",
      "  'message': 'hello',\n",
      "  'message_id': '4098d9bda6a8f71cd085ecc28797675e',\n",
      "  'status': 1},\n",
      " {'done_time': None,\n",
      "  'in_time': 1615838997,\n",
      "  'lock_time': 1615838997,\n",
      "  'message': 'world',\n",
      "  'message_id': '39889bf2a5360878c0e9f786d88f38f7',\n",
      "  'status': 1},\n",
      " {'done_time': None,\n",
      "  'in_time': 1615838997,\n",
      "  'lock_time': 1615838997,\n",
      "  'message': 'foo',\n",
      "  'message_id': '1ee51cfbbf0c877e652e1bf052c27a08',\n",
      "  'status': 1},\n",
      " {'done_time': None,\n",
      "  'in_time': 1615838997,\n",
      "  'lock_time': 1615838997,\n",
      "  'message': 'bar',\n",
      "  'message_id': 'b1f150a87f683427f5223b37545c285d',\n",
      "  'status': 1},\n",
      " {'done_time': 1615838997,\n",
      "  'in_time': 1615838997,\n",
      "  'lock_time': 1615838997,\n",
      "  'message': 'hello',\n",
      "  'message_id': '8c60f8e06f40ec89b628475ac5460d9d',\n",
      "  'status': 2},\n",
      " {'done_time': None,\n",
      "  'in_time': 1615838997,\n",
      "  'lock_time': 1615838998,\n",
      "  'message': 'world',\n",
      "  'message_id': '5192c5908bf9db658075698375ceae20',\n",
      "  'status': 1},\n",
      " {'done_time': None,\n",
      "  'in_time': 1615838997,\n",
      "  'lock_time': None,\n",
      "  'message': 'foo',\n",
      "  'message_id': '725d32ef93c3d5d2e5e6714676611102',\n",
      "  'status': 0},\n",
      " {'done_time': None,\n",
      "  'in_time': 1615838997,\n",
      "  'lock_time': None,\n",
      "  'message': 'bar',\n",
      "  'message_id': '49819e3b77272a187e7017d12f201fb2',\n",
      "  'status': 0}])\n"
     ]
    }
   ],
   "source": [
    "print(q)"
   ]
  },
  {
   "cell_type": "code",
   "execution_count": null,
   "id": "solar-talent",
   "metadata": {},
   "outputs": [],
   "source": [
    "q.prune()"
   ]
  },
  {
   "cell_type": "code",
   "execution_count": null,
   "id": "domestic-farmer",
   "metadata": {},
   "outputs": [
    {
     "name": "stdout",
     "output_type": "stream",
     "text": [
      "SQLQueue(Connection=<sqlite3.Connection object at 0x7fae25cee730>, items=[{'done_time': None,\n",
      "  'in_time': 1615838997,\n",
      "  'lock_time': 1615838997,\n",
      "  'message': 'hello',\n",
      "  'message_id': '4098d9bda6a8f71cd085ecc28797675e',\n",
      "  'status': 1},\n",
      " {'done_time': None,\n",
      "  'in_time': 1615838997,\n",
      "  'lock_time': 1615838997,\n",
      "  'message': 'world',\n",
      "  'message_id': '39889bf2a5360878c0e9f786d88f38f7',\n",
      "  'status': 1},\n",
      " {'done_time': None,\n",
      "  'in_time': 1615838997,\n",
      "  'lock_time': 1615838997,\n",
      "  'message': 'foo',\n",
      "  'message_id': '1ee51cfbbf0c877e652e1bf052c27a08',\n",
      "  'status': 1},\n",
      " {'done_time': None,\n",
      "  'in_time': 1615838997,\n",
      "  'lock_time': 1615838997,\n",
      "  'message': 'bar',\n",
      "  'message_id': 'b1f150a87f683427f5223b37545c285d',\n",
      "  'status': 1},\n",
      " {'done_time': None,\n",
      "  'in_time': 1615838997,\n",
      "  'lock_time': 1615838998,\n",
      "  'message': 'world',\n",
      "  'message_id': '5192c5908bf9db658075698375ceae20',\n",
      "  'status': 1},\n",
      " {'done_time': None,\n",
      "  'in_time': 1615838997,\n",
      "  'lock_time': None,\n",
      "  'message': 'foo',\n",
      "  'message_id': '725d32ef93c3d5d2e5e6714676611102',\n",
      "  'status': 0},\n",
      " {'done_time': None,\n",
      "  'in_time': 1615838997,\n",
      "  'lock_time': None,\n",
      "  'message': 'bar',\n",
      "  'message_id': '49819e3b77272a187e7017d12f201fb2',\n",
      "  'status': 0}])\n"
     ]
    }
   ],
   "source": [
    "print(q)"
   ]
  },
  {
   "cell_type": "code",
   "execution_count": null,
   "id": "pretty-wednesday",
   "metadata": {},
   "outputs": [],
   "source": [
    "from string import ascii_lowercase, printable\n",
    "from random import choice\n",
    "\n",
    "\n",
    "def random_string(string_length=10, fuzz=False, space=False):\n",
    "    \"\"\"Generate a random string of fixed length \"\"\"\n",
    "    letters = ascii_lowercase\n",
    "    letters = letters + \" \" if space else letters\n",
    "    if fuzz:\n",
    "        letters = printable\n",
    "    return \"\".join(choice(letters) for i in range(string_length))"
   ]
  },
  {
   "cell_type": "code",
   "execution_count": null,
   "id": "governmental-portland",
   "metadata": {},
   "outputs": [],
   "source": [
    "q = SQLQueue(\":memory:\", maxsize=50)"
   ]
  },
  {
   "cell_type": "code",
   "execution_count": null,
   "id": "purple-denver",
   "metadata": {},
   "outputs": [],
   "source": [
    "for i in range(50):\n",
    "\n",
    "    q.put(random_string(20))"
   ]
  },
  {
   "cell_type": "code",
   "execution_count": null,
   "id": "romance-genome",
   "metadata": {},
   "outputs": [],
   "source": [
    "assert q.qsize() == 50"
   ]
  },
  {
   "cell_type": "markdown",
   "id": "qualified-papua",
   "metadata": {},
   "source": [
    "Make sure an error is raised when the queue has reached its size limit"
   ]
  },
  {
   "cell_type": "code",
   "execution_count": null,
   "id": "dress-accounting",
   "metadata": {},
   "outputs": [
    {
     "name": "stdout",
     "output_type": "stream",
     "text": [
      "test pass\n"
     ]
    }
   ],
   "source": [
    "import sqlite3\n",
    "\n",
    "try:\n",
    "    q.put(random_string(20))\n",
    "except sqlite3.IntegrityError:  # max len reached\n",
    "    assert q.full() == True\n",
    "    print(\"test pass\")"
   ]
  },
  {
   "cell_type": "code",
   "execution_count": null,
   "id": "fabulous-bandwidth",
   "metadata": {},
   "outputs": [
    {
     "data": {
      "text/plain": [
       "{'message': 'xjrzkgoorjcmsrbzuyaa',\n",
       " 'message_id': '05eecf3a55df7325195faa9a4110bcec'}"
      ]
     },
     "execution_count": null,
     "metadata": {},
     "output_type": "execute_result"
    }
   ],
   "source": [
    "q.pop()"
   ]
  },
  {
   "cell_type": "code",
   "execution_count": null,
   "id": "familiar-performance",
   "metadata": {},
   "outputs": [],
   "source": [
    "assert q.full() == False"
   ]
  },
  {
   "cell_type": "code",
   "execution_count": null,
   "id": "agricultural-summary",
   "metadata": {},
   "outputs": [
    {
     "data": {
      "text/plain": [
       "51"
      ]
     },
     "execution_count": null,
     "metadata": {},
     "output_type": "execute_result"
    }
   ],
   "source": [
    "q.put(\"hello\")"
   ]
  },
  {
   "cell_type": "code",
   "execution_count": null,
   "id": "original-flash",
   "metadata": {},
   "outputs": [
    {
     "data": {
      "text/plain": [
       "False"
      ]
     },
     "execution_count": null,
     "metadata": {},
     "output_type": "execute_result"
    }
   ],
   "source": [
    "q.empty()"
   ]
  },
  {
   "cell_type": "code",
   "execution_count": null,
   "id": "medical-threat",
   "metadata": {},
   "outputs": [],
   "source": [
    "assert q.empty() == False\n",
    "\n",
    "q2 = SQLQueue(\":memory:\")\n",
    "\n",
    "assert q2.empty() == True"
   ]
  },
  {
   "cell_type": "markdown",
   "id": "superior-substance",
   "metadata": {},
   "source": [
    "**Random benchmarks**\n",
    "\n",
    "Inserting 100 items in the queue. Since it will run many times, the queue will end up having a lot more than 100 items"
   ]
  },
  {
   "cell_type": "code",
   "execution_count": null,
   "id": "silent-manhattan",
   "metadata": {},
   "outputs": [],
   "source": [
    "import gc"
   ]
  },
  {
   "cell_type": "markdown",
   "id": "original-submission",
   "metadata": {},
   "source": [
    "In-memory SQL queue"
   ]
  },
  {
   "cell_type": "code",
   "execution_count": null,
   "id": "opposed-jenny",
   "metadata": {},
   "outputs": [],
   "source": [
    "q = SQLQueue(\":memory:\", maxsize=None)"
   ]
  },
  {
   "cell_type": "code",
   "execution_count": null,
   "id": "substantial-avatar",
   "metadata": {},
   "outputs": [
    {
     "data": {
      "text/plain": [
       "264"
      ]
     },
     "execution_count": null,
     "metadata": {},
     "output_type": "execute_result"
    }
   ],
   "source": [
    "gc.collect()"
   ]
  },
  {
   "cell_type": "code",
   "execution_count": null,
   "id": "bored-patrick",
   "metadata": {},
   "outputs": [
    {
     "name": "stdout",
     "output_type": "stream",
     "text": [
      "41.6 µs ± 4.79 µs per loop (mean ± std. dev. of 7 runs, 10000 loops each)\n"
     ]
    }
   ],
   "source": [
    "%%timeit -n10000 -r7\n",
    "\n",
    "q.put(random_string(20))"
   ]
  },
  {
   "cell_type": "code",
   "execution_count": null,
   "id": "automatic-outside",
   "metadata": {},
   "outputs": [
    {
     "data": {
      "text/plain": [
       "70000"
      ]
     },
     "execution_count": null,
     "metadata": {},
     "output_type": "execute_result"
    }
   ],
   "source": [
    "q.qsize()"
   ]
  },
  {
   "cell_type": "markdown",
   "id": "funded-drain",
   "metadata": {},
   "source": [
    "Standard python queue."
   ]
  },
  {
   "cell_type": "code",
   "execution_count": null,
   "id": "coordinated-lewis",
   "metadata": {},
   "outputs": [],
   "source": [
    "from queue import Queue"
   ]
  },
  {
   "cell_type": "code",
   "execution_count": null,
   "id": "executive-general",
   "metadata": {},
   "outputs": [],
   "source": [
    "q = Queue()"
   ]
  },
  {
   "cell_type": "code",
   "execution_count": null,
   "id": "desirable-harassment",
   "metadata": {},
   "outputs": [
    {
     "data": {
      "text/plain": [
       "113"
      ]
     },
     "execution_count": null,
     "metadata": {},
     "output_type": "execute_result"
    }
   ],
   "source": [
    "gc.collect()"
   ]
  },
  {
   "cell_type": "code",
   "execution_count": null,
   "id": "embedded-minnesota",
   "metadata": {},
   "outputs": [
    {
     "name": "stdout",
     "output_type": "stream",
     "text": [
      "26.9 µs ± 7.43 µs per loop (mean ± std. dev. of 7 runs, 10000 loops each)\n"
     ]
    }
   ],
   "source": [
    "%%timeit -n10000 -r7\n",
    "\n",
    "q.put(random_string(20))"
   ]
  },
  {
   "cell_type": "markdown",
   "id": "interstate-product",
   "metadata": {},
   "source": [
    "Persistent SQL queue"
   ]
  },
  {
   "cell_type": "code",
   "execution_count": null,
   "id": "personalized-action",
   "metadata": {},
   "outputs": [],
   "source": [
    "q = SQLQueue(\"test.queue\", maxsize=None)"
   ]
  },
  {
   "cell_type": "code",
   "execution_count": null,
   "id": "certain-blogger",
   "metadata": {},
   "outputs": [
    {
     "data": {
      "text/plain": [
       "69"
      ]
     },
     "execution_count": null,
     "metadata": {},
     "output_type": "execute_result"
    }
   ],
   "source": [
    "gc.collect()"
   ]
  },
  {
   "cell_type": "code",
   "execution_count": null,
   "id": "utility-mortality",
   "metadata": {},
   "outputs": [
    {
     "name": "stdout",
     "output_type": "stream",
     "text": [
      "172 µs ± 13.3 µs per loop (mean ± std. dev. of 7 runs, 10000 loops each)\n"
     ]
    }
   ],
   "source": [
    "%%timeit -n10000 -r7\n",
    "\n",
    "q.put(random_string(20))"
   ]
  },
  {
   "cell_type": "code",
   "execution_count": null,
   "id": "russian-express",
   "metadata": {},
   "outputs": [
    {
     "name": "stdout",
     "output_type": "stream",
     "text": [
      "9.1M\ttest.queue\n",
      "32K\ttest.queue-shm\n",
      "5.0M\ttest.queue-wal\n"
     ]
    }
   ],
   "source": [
    "!du -sh test.queue*"
   ]
  },
  {
   "cell_type": "code",
   "execution_count": null,
   "id": "velvet-audio",
   "metadata": {},
   "outputs": [],
   "source": [
    "!rm test.queue*"
   ]
  },
  {
   "cell_type": "code",
   "execution_count": null,
   "id": "disciplinary-pottery",
   "metadata": {},
   "outputs": [],
   "source": [
    "assert q.conn.isolation_level is None"
   ]
  },
  {
   "cell_type": "markdown",
   "id": "prompt-anime",
   "metadata": {},
   "source": [
    "Creating and removing tasks"
   ]
  },
  {
   "cell_type": "code",
   "execution_count": null,
   "id": "bizarre-celtic",
   "metadata": {},
   "outputs": [],
   "source": [
    "q = Queue()"
   ]
  },
  {
   "cell_type": "code",
   "execution_count": null,
   "id": "hungarian-folder",
   "metadata": {},
   "outputs": [
    {
     "data": {
      "text/plain": [
       "135"
      ]
     },
     "execution_count": null,
     "metadata": {},
     "output_type": "execute_result"
    }
   ],
   "source": [
    "gc.collect()"
   ]
  },
  {
   "cell_type": "code",
   "execution_count": null,
   "id": "allied-attendance",
   "metadata": {},
   "outputs": [
    {
     "name": "stdout",
     "output_type": "stream",
     "text": [
      "31.9 µs ± 3.28 µs per loop (mean ± std. dev. of 7 runs, 10000 loops each)\n"
     ]
    }
   ],
   "source": [
    "%%timeit -n10000 -r7\n",
    "\n",
    "tid = random_string(20)\n",
    "\n",
    "q.put(tid)\n",
    "\n",
    "q.get()\n",
    "\n",
    "q.task_done()"
   ]
  },
  {
   "cell_type": "code",
   "execution_count": null,
   "id": "referenced-swimming",
   "metadata": {},
   "outputs": [],
   "source": [
    "q = SQLQueue(\":memory:\", maxsize=None)"
   ]
  },
  {
   "cell_type": "code",
   "execution_count": null,
   "id": "suspected-cooperation",
   "metadata": {},
   "outputs": [
    {
     "data": {
      "text/plain": [
       "69"
      ]
     },
     "execution_count": null,
     "metadata": {},
     "output_type": "execute_result"
    }
   ],
   "source": [
    "gc.collect()"
   ]
  },
  {
   "cell_type": "code",
   "execution_count": null,
   "id": "muslim-apparatus",
   "metadata": {},
   "outputs": [
    {
     "name": "stdout",
     "output_type": "stream",
     "text": [
      "99.8 µs ± 6.94 µs per loop (mean ± std. dev. of 7 runs, 10000 loops each)\n"
     ]
    }
   ],
   "source": [
    "%%timeit -n10000 -r7\n",
    "\n",
    "tid = random_string(20)\n",
    "\n",
    "q.put(tid)\n",
    "\n",
    "task = q.pop()\n",
    "\n",
    "q.done(task[\"message_id\"])"
   ]
  }
 ],
 "metadata": {
  "kernelspec": {
   "display_name": "Python 3",
   "language": "python",
   "name": "python3"
  }
 },
 "nbformat": 4,
 "nbformat_minor": 5
}
