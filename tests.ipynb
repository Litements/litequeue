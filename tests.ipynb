{
 "cells": [
  {
   "cell_type": "code",
   "execution_count": null,
   "id": "partial-northern",
   "metadata": {},
   "outputs": [],
   "source": [
    "%load_ext autoreload\n",
    "%autoreload 2"
   ]
  },
  {
   "cell_type": "code",
   "execution_count": null,
   "id": "female-projection",
   "metadata": {},
   "outputs": [
    {
     "name": "stdout",
     "output_type": "stream",
     "text": [
      "\u001b[1mAll done! ✨ 🍰 ✨\u001b[0m\n",
      "1 file left unchanged.\u001b[0m\n"
     ]
    }
   ],
   "source": [
    "!black litequeue.py"
   ]
  },
  {
   "cell_type": "code",
   "execution_count": null,
   "id": "increasing-century",
   "metadata": {},
   "outputs": [],
   "source": [
    "from litequeue import SQLQueue"
   ]
  },
  {
   "cell_type": "code",
   "execution_count": null,
   "id": "empirical-blair",
   "metadata": {},
   "outputs": [],
   "source": [
    "TEST_1 = \"key_test_1\"\n",
    "TEST_2 = \"key_test_2\""
   ]
  },
  {
   "cell_type": "code",
   "execution_count": null,
   "id": "prescribed-relevance",
   "metadata": {},
   "outputs": [
    {
     "data": {
      "text/plain": [
       "4"
      ]
     },
     "execution_count": null,
     "metadata": {},
     "output_type": "execute_result"
    }
   ],
   "source": [
    "q = SQLQueue(\":memory:\")\n",
    "\n",
    "q.put(\"hello\")\n",
    "q.put(\"world\")\n",
    "q.put(\"foo\")\n",
    "q.put(\"bar\")"
   ]
  },
  {
   "cell_type": "code",
   "execution_count": null,
   "id": "orange-punch",
   "metadata": {},
   "outputs": [
    {
     "data": {
      "text/plain": [
       "{'message': 'hello', 'task_id': '6218e06634aad97b26f4b978cc78e090'}"
      ]
     },
     "execution_count": null,
     "metadata": {},
     "output_type": "execute_result"
    }
   ],
   "source": [
    "q.pop()"
   ]
  },
  {
   "cell_type": "code",
   "execution_count": null,
   "id": "romance-royal",
   "metadata": {},
   "outputs": [
    {
     "name": "stdout",
     "output_type": "stream",
     "text": [
      "SQLQueue(dbname=':memory:', items=[{'done_time': None,\n",
      "  'in_time': 1612715850,\n",
      "  'lock_time': 1612715850,\n",
      "  'message': 'hello',\n",
      "  'status': 1,\n",
      "  'task_id': '6218e06634aad97b26f4b978cc78e090'},\n",
      " {'done_time': None,\n",
      "  'in_time': 1612715850,\n",
      "  'lock_time': None,\n",
      "  'message': 'world',\n",
      "  'status': 0,\n",
      "  'task_id': 'b3bb507b151dd5b00e6ebcf835afe73b'},\n",
      " {'done_time': None,\n",
      "  'in_time': 1612715850,\n",
      "  'lock_time': None,\n",
      "  'message': 'foo',\n",
      "  'status': 0,\n",
      "  'task_id': '10ffa9000872b505f9de5b6a374f4eab'},\n",
      " {'done_time': None,\n",
      "  'in_time': 1612715850,\n",
      "  'lock_time': None,\n",
      "  'message': 'bar',\n",
      "  'status': 0,\n",
      "  'task_id': 'a8e7180d92e6faac119dff01c16b75f6'}])\n"
     ]
    }
   ],
   "source": [
    "print(q)"
   ]
  },
  {
   "cell_type": "code",
   "execution_count": null,
   "id": "instructional-hardware",
   "metadata": {},
   "outputs": [],
   "source": [
    "# pop remaining\n",
    "for _ in range(3):\n",
    "    q.pop()\n",
    "\n",
    "\n",
    "assert q.pop() is None"
   ]
  },
  {
   "cell_type": "code",
   "execution_count": null,
   "id": "comic-swing",
   "metadata": {},
   "outputs": [
    {
     "name": "stdout",
     "output_type": "stream",
     "text": [
      "SQLQueue(dbname=':memory:', items=[{'done_time': None,\n",
      "  'in_time': 1612715850,\n",
      "  'lock_time': 1612715850,\n",
      "  'message': 'hello',\n",
      "  'status': 1,\n",
      "  'task_id': '6218e06634aad97b26f4b978cc78e090'},\n",
      " {'done_time': None,\n",
      "  'in_time': 1612715850,\n",
      "  'lock_time': 1612715850,\n",
      "  'message': 'world',\n",
      "  'status': 1,\n",
      "  'task_id': 'b3bb507b151dd5b00e6ebcf835afe73b'},\n",
      " {'done_time': None,\n",
      "  'in_time': 1612715850,\n",
      "  'lock_time': 1612715850,\n",
      "  'message': 'foo',\n",
      "  'status': 1,\n",
      "  'task_id': '10ffa9000872b505f9de5b6a374f4eab'},\n",
      " {'done_time': None,\n",
      "  'in_time': 1612715850,\n",
      "  'lock_time': 1612715850,\n",
      "  'message': 'bar',\n",
      "  'status': 1,\n",
      "  'task_id': 'a8e7180d92e6faac119dff01c16b75f6'}])\n"
     ]
    }
   ],
   "source": [
    "print(q)"
   ]
  },
  {
   "cell_type": "code",
   "execution_count": null,
   "id": "regulation-civilian",
   "metadata": {},
   "outputs": [
    {
     "data": {
      "text/plain": [
       "8"
      ]
     },
     "execution_count": null,
     "metadata": {},
     "output_type": "execute_result"
    }
   ],
   "source": [
    "q.put(\"hello\")\n",
    "q.put(\"world\")\n",
    "q.put(\"foo\")\n",
    "q.put(\"bar\")"
   ]
  },
  {
   "cell_type": "code",
   "execution_count": null,
   "id": "appropriate-earth",
   "metadata": {},
   "outputs": [],
   "source": [
    "task = q.pop()\n",
    "\n",
    "assert task[\"message\"] == \"hello\""
   ]
  },
  {
   "cell_type": "code",
   "execution_count": null,
   "id": "identified-franchise",
   "metadata": {},
   "outputs": [
    {
     "data": {
      "text/plain": [
       "{'message': 'world',\n",
       " 'task_id': '532a4b40d5d7811718e74caf59943808',\n",
       " 'status': 0,\n",
       " 'in_time': 1612715851,\n",
       " 'lock_time': None,\n",
       " 'done_time': None}"
      ]
     },
     "execution_count": null,
     "metadata": {},
     "output_type": "execute_result"
    }
   ],
   "source": [
    "q.peek()"
   ]
  },
  {
   "cell_type": "code",
   "execution_count": null,
   "id": "extraordinary-update",
   "metadata": {},
   "outputs": [],
   "source": [
    "# next one that is free\n",
    "assert q.peek()[\"message\"] == \"world\"\n",
    "\n",
    "# status = 0 = free\n",
    "assert q.peek()[\"status\"] == 0"
   ]
  },
  {
   "cell_type": "code",
   "execution_count": null,
   "id": "satellite-conflict",
   "metadata": {},
   "outputs": [
    {
     "data": {
      "text/plain": [
       "('hello', 'a5b42577bfe2ab1be6f13707316e28b3')"
      ]
     },
     "execution_count": null,
     "metadata": {},
     "output_type": "execute_result"
    }
   ],
   "source": [
    "task[\"message\"], task[\"task_id\"]"
   ]
  },
  {
   "cell_type": "code",
   "execution_count": null,
   "id": "difficult-president",
   "metadata": {},
   "outputs": [
    {
     "data": {
      "text/plain": [
       "8"
      ]
     },
     "execution_count": null,
     "metadata": {},
     "output_type": "execute_result"
    }
   ],
   "source": [
    "q.done(task[\"task_id\"])"
   ]
  },
  {
   "cell_type": "code",
   "execution_count": null,
   "id": "subject-dallas",
   "metadata": {},
   "outputs": [
    {
     "data": {
      "text/plain": [
       "{'message': 'hello',\n",
       " 'task_id': 'a5b42577bfe2ab1be6f13707316e28b3',\n",
       " 'status': 2,\n",
       " 'in_time': 1612715851,\n",
       " 'lock_time': 1612715851,\n",
       " 'done_time': 1612715851}"
      ]
     },
     "execution_count": null,
     "metadata": {},
     "output_type": "execute_result"
    }
   ],
   "source": [
    "q.get(task[\"task_id\"])"
   ]
  },
  {
   "cell_type": "code",
   "execution_count": null,
   "id": "broad-period",
   "metadata": {},
   "outputs": [
    {
     "name": "stdout",
     "output_type": "stream",
     "text": [
      "Task a5b42577bfe2ab1be6f13707316e28b3 took 0 seconds to get done and was in the queue for 0 seconds\n"
     ]
    }
   ],
   "source": [
    "already_done = q.get(task[\"task_id\"])\n",
    "\n",
    "# stauts = 2 = done\n",
    "assert already_done[\"status\"] == 2\n",
    "\n",
    "in_time = already_done[\"in_time\"]\n",
    "lock_time = already_done[\"lock_time\"]\n",
    "done_time = already_done[\"done_time\"]\n",
    "\n",
    "assert done_time >= lock_time >= in_time\n",
    "print(\n",
    "    f\"Task {already_done['task_id']} took {done_time - lock_time} seconds to get done and was in the queue for {done_time - in_time} seconds\"\n",
    ")"
   ]
  },
  {
   "cell_type": "code",
   "execution_count": null,
   "id": "arabic-alaska",
   "metadata": {},
   "outputs": [
    {
     "name": "stdout",
     "output_type": "stream",
     "text": [
      "SQLQueue(dbname=':memory:', items=[{'done_time': None,\n",
      "  'in_time': 1612715850,\n",
      "  'lock_time': 1612715850,\n",
      "  'message': 'hello',\n",
      "  'status': 1,\n",
      "  'task_id': '6218e06634aad97b26f4b978cc78e090'},\n",
      " {'done_time': None,\n",
      "  'in_time': 1612715850,\n",
      "  'lock_time': 1612715850,\n",
      "  'message': 'world',\n",
      "  'status': 1,\n",
      "  'task_id': 'b3bb507b151dd5b00e6ebcf835afe73b'},\n",
      " {'done_time': None,\n",
      "  'in_time': 1612715850,\n",
      "  'lock_time': 1612715850,\n",
      "  'message': 'foo',\n",
      "  'status': 1,\n",
      "  'task_id': '10ffa9000872b505f9de5b6a374f4eab'},\n",
      " {'done_time': None,\n",
      "  'in_time': 1612715850,\n",
      "  'lock_time': 1612715850,\n",
      "  'message': 'bar',\n",
      "  'status': 1,\n",
      "  'task_id': 'a8e7180d92e6faac119dff01c16b75f6'},\n",
      " {'done_time': 1612715851,\n",
      "  'in_time': 1612715851,\n",
      "  'lock_time': 1612715851,\n",
      "  'message': 'hello',\n",
      "  'status': 2,\n",
      "  'task_id': 'a5b42577bfe2ab1be6f13707316e28b3'},\n",
      " {'done_time': None,\n",
      "  'in_time': 1612715851,\n",
      "  'lock_time': None,\n",
      "  'message': 'world',\n",
      "  'status': 0,\n",
      "  'task_id': '532a4b40d5d7811718e74caf59943808'},\n",
      " {'done_time': None,\n",
      "  'in_time': 1612715851,\n",
      "  'lock_time': None,\n",
      "  'message': 'foo',\n",
      "  'status': 0,\n",
      "  'task_id': 'e5ed5cf32eb168c5e23d35213f492dad'},\n",
      " {'done_time': None,\n",
      "  'in_time': 1612715851,\n",
      "  'lock_time': None,\n",
      "  'message': 'bar',\n",
      "  'status': 0,\n",
      "  'task_id': '6bb61d9fefd72fe87cc66da94ebe453e'}])\n"
     ]
    }
   ],
   "source": [
    "print(q)"
   ]
  },
  {
   "cell_type": "code",
   "execution_count": null,
   "id": "daily-blues",
   "metadata": {},
   "outputs": [],
   "source": [
    "assert q.qsize() == 7"
   ]
  },
  {
   "cell_type": "code",
   "execution_count": null,
   "id": "comparative-citizenship",
   "metadata": {},
   "outputs": [],
   "source": [
    "next_one_msg = q.peek()[\"message\"]\n",
    "next_one_id = q.peek()[\"task_id\"]\n",
    "\n",
    "task = q.pop()\n",
    "\n",
    "assert task[\"message\"] == next_one_msg\n",
    "assert task[\"task_id\"] == next_one_id"
   ]
  },
  {
   "cell_type": "code",
   "execution_count": null,
   "id": "dated-synthesis",
   "metadata": {},
   "outputs": [
    {
     "name": "stdout",
     "output_type": "stream",
     "text": [
      "SQLQueue(dbname=':memory:', items=[{'done_time': None,\n",
      "  'in_time': 1612715850,\n",
      "  'lock_time': 1612715850,\n",
      "  'message': 'hello',\n",
      "  'status': 1,\n",
      "  'task_id': '6218e06634aad97b26f4b978cc78e090'},\n",
      " {'done_time': None,\n",
      "  'in_time': 1612715850,\n",
      "  'lock_time': 1612715850,\n",
      "  'message': 'world',\n",
      "  'status': 1,\n",
      "  'task_id': 'b3bb507b151dd5b00e6ebcf835afe73b'},\n",
      " {'done_time': None,\n",
      "  'in_time': 1612715850,\n",
      "  'lock_time': 1612715850,\n",
      "  'message': 'foo',\n",
      "  'status': 1,\n",
      "  'task_id': '10ffa9000872b505f9de5b6a374f4eab'},\n",
      " {'done_time': None,\n",
      "  'in_time': 1612715850,\n",
      "  'lock_time': 1612715850,\n",
      "  'message': 'bar',\n",
      "  'status': 1,\n",
      "  'task_id': 'a8e7180d92e6faac119dff01c16b75f6'},\n",
      " {'done_time': 1612715851,\n",
      "  'in_time': 1612715851,\n",
      "  'lock_time': 1612715851,\n",
      "  'message': 'hello',\n",
      "  'status': 2,\n",
      "  'task_id': 'a5b42577bfe2ab1be6f13707316e28b3'},\n",
      " {'done_time': None,\n",
      "  'in_time': 1612715851,\n",
      "  'lock_time': 1612715851,\n",
      "  'message': 'world',\n",
      "  'status': 1,\n",
      "  'task_id': '532a4b40d5d7811718e74caf59943808'},\n",
      " {'done_time': None,\n",
      "  'in_time': 1612715851,\n",
      "  'lock_time': None,\n",
      "  'message': 'foo',\n",
      "  'status': 0,\n",
      "  'task_id': 'e5ed5cf32eb168c5e23d35213f492dad'},\n",
      " {'done_time': None,\n",
      "  'in_time': 1612715851,\n",
      "  'lock_time': None,\n",
      "  'message': 'bar',\n",
      "  'status': 0,\n",
      "  'task_id': '6bb61d9fefd72fe87cc66da94ebe453e'}])\n"
     ]
    }
   ],
   "source": [
    "print(q)"
   ]
  },
  {
   "cell_type": "code",
   "execution_count": null,
   "id": "retired-method",
   "metadata": {},
   "outputs": [],
   "source": [
    "q.prune()"
   ]
  },
  {
   "cell_type": "code",
   "execution_count": null,
   "id": "attended-imaging",
   "metadata": {},
   "outputs": [
    {
     "name": "stdout",
     "output_type": "stream",
     "text": [
      "SQLQueue(dbname=':memory:', items=[{'done_time': None,\n",
      "  'in_time': 1612715850,\n",
      "  'lock_time': 1612715850,\n",
      "  'message': 'hello',\n",
      "  'status': 1,\n",
      "  'task_id': '6218e06634aad97b26f4b978cc78e090'},\n",
      " {'done_time': None,\n",
      "  'in_time': 1612715850,\n",
      "  'lock_time': 1612715850,\n",
      "  'message': 'world',\n",
      "  'status': 1,\n",
      "  'task_id': 'b3bb507b151dd5b00e6ebcf835afe73b'},\n",
      " {'done_time': None,\n",
      "  'in_time': 1612715850,\n",
      "  'lock_time': 1612715850,\n",
      "  'message': 'foo',\n",
      "  'status': 1,\n",
      "  'task_id': '10ffa9000872b505f9de5b6a374f4eab'},\n",
      " {'done_time': None,\n",
      "  'in_time': 1612715850,\n",
      "  'lock_time': 1612715850,\n",
      "  'message': 'bar',\n",
      "  'status': 1,\n",
      "  'task_id': 'a8e7180d92e6faac119dff01c16b75f6'},\n",
      " {'done_time': None,\n",
      "  'in_time': 1612715851,\n",
      "  'lock_time': 1612715851,\n",
      "  'message': 'world',\n",
      "  'status': 1,\n",
      "  'task_id': '532a4b40d5d7811718e74caf59943808'},\n",
      " {'done_time': None,\n",
      "  'in_time': 1612715851,\n",
      "  'lock_time': None,\n",
      "  'message': 'foo',\n",
      "  'status': 0,\n",
      "  'task_id': 'e5ed5cf32eb168c5e23d35213f492dad'},\n",
      " {'done_time': None,\n",
      "  'in_time': 1612715851,\n",
      "  'lock_time': None,\n",
      "  'message': 'bar',\n",
      "  'status': 0,\n",
      "  'task_id': '6bb61d9fefd72fe87cc66da94ebe453e'}])\n"
     ]
    }
   ],
   "source": [
    "print(q)"
   ]
  },
  {
   "cell_type": "code",
   "execution_count": null,
   "id": "varying-convenience",
   "metadata": {},
   "outputs": [],
   "source": [
    "from string import ascii_lowercase, printable\n",
    "from random import choice\n",
    "\n",
    "\n",
    "def random_string(string_length=10, fuzz=False, space=False):\n",
    "    \"\"\"Generate a random string of fixed length \"\"\"\n",
    "    letters = ascii_lowercase\n",
    "    letters = letters + \" \" if space else letters\n",
    "    if fuzz:\n",
    "        letters = printable\n",
    "    return \"\".join(choice(letters) for i in range(string_length))"
   ]
  },
  {
   "cell_type": "code",
   "execution_count": null,
   "id": "known-round",
   "metadata": {},
   "outputs": [],
   "source": [
    "q = SQLQueue(\":memory:\", maxsize=50)"
   ]
  },
  {
   "cell_type": "code",
   "execution_count": null,
   "id": "adjustable-country",
   "metadata": {},
   "outputs": [],
   "source": [
    "for i in range(50):\n",
    "\n",
    "    q.put(random_string(20))"
   ]
  },
  {
   "cell_type": "code",
   "execution_count": null,
   "id": "stunning-premiere",
   "metadata": {},
   "outputs": [],
   "source": [
    "assert q.qsize() == 50"
   ]
  },
  {
   "cell_type": "markdown",
   "id": "italian-european",
   "metadata": {},
   "source": [
    "Make sure an error is raised when the queue has reached its size limit"
   ]
  },
  {
   "cell_type": "code",
   "execution_count": null,
   "id": "atmospheric-share",
   "metadata": {},
   "outputs": [
    {
     "name": "stdout",
     "output_type": "stream",
     "text": [
      "test pass\n"
     ]
    }
   ],
   "source": [
    "import sqlite3\n",
    "\n",
    "try:\n",
    "    q.put(random_string(20))\n",
    "except sqlite3.IntegrityError: # max len reached\n",
    "    print(\"test pass\")"
   ]
  },
  {
   "cell_type": "code",
   "execution_count": null,
   "id": "expanded-glasgow",
   "metadata": {},
   "outputs": [
    {
     "data": {
      "text/plain": [
       "{'message': 'bcdantzubwfynaigdupw',\n",
       " 'task_id': '8b40fd67370e8915a15ec5def26c05a0'}"
      ]
     },
     "execution_count": null,
     "metadata": {},
     "output_type": "execute_result"
    }
   ],
   "source": [
    "q.pop()"
   ]
  },
  {
   "cell_type": "code",
   "execution_count": null,
   "id": "caroline-finger",
   "metadata": {},
   "outputs": [
    {
     "data": {
      "text/plain": [
       "51"
      ]
     },
     "execution_count": null,
     "metadata": {},
     "output_type": "execute_result"
    }
   ],
   "source": [
    "q.put(\"hello\")"
   ]
  },
  {
   "cell_type": "code",
   "execution_count": null,
   "id": "scientific-scanner",
   "metadata": {},
   "outputs": [
    {
     "data": {
      "text/plain": [
       "False"
      ]
     },
     "execution_count": null,
     "metadata": {},
     "output_type": "execute_result"
    }
   ],
   "source": [
    "q.empty()"
   ]
  },
  {
   "cell_type": "code",
   "execution_count": null,
   "id": "systematic-consistency",
   "metadata": {},
   "outputs": [],
   "source": [
    "assert q.empty() == False\n",
    "\n",
    "q2 = SQLQueue(\":memory:\")\n",
    "\n",
    "assert q2.empty() == True"
   ]
  },
  {
   "cell_type": "markdown",
   "id": "acquired-shore",
   "metadata": {},
   "source": [
    "**Random benchmarks**\n",
    "\n",
    "Inserting 100 items in the queue. Since it will run many times, the queue will end up having a lot more than 100 items"
   ]
  },
  {
   "cell_type": "code",
   "execution_count": null,
   "id": "narrative-arabic",
   "metadata": {},
   "outputs": [],
   "source": [
    "import gc"
   ]
  },
  {
   "cell_type": "markdown",
   "id": "monthly-harvard",
   "metadata": {},
   "source": [
    "In-memory SQL queue"
   ]
  },
  {
   "cell_type": "code",
   "execution_count": null,
   "id": "occupied-george",
   "metadata": {},
   "outputs": [],
   "source": [
    "q = SQLQueue(\":memory:\", maxsize=None)"
   ]
  },
  {
   "cell_type": "code",
   "execution_count": null,
   "id": "contemporary-illinois",
   "metadata": {},
   "outputs": [
    {
     "data": {
      "text/plain": [
       "242"
      ]
     },
     "execution_count": null,
     "metadata": {},
     "output_type": "execute_result"
    }
   ],
   "source": [
    "gc.collect()"
   ]
  },
  {
   "cell_type": "code",
   "execution_count": null,
   "id": "animated-sheriff",
   "metadata": {},
   "outputs": [
    {
     "name": "stdout",
     "output_type": "stream",
     "text": [
      "31.2 µs ± 2.28 µs per loop (mean ± std. dev. of 7 runs, 10000 loops each)\n"
     ]
    }
   ],
   "source": [
    "%%timeit -n10000 -r7\n",
    "\n",
    "q.put(random_string(20))"
   ]
  },
  {
   "cell_type": "code",
   "execution_count": null,
   "id": "theoretical-painting",
   "metadata": {},
   "outputs": [
    {
     "data": {
      "text/plain": [
       "70000"
      ]
     },
     "execution_count": null,
     "metadata": {},
     "output_type": "execute_result"
    }
   ],
   "source": [
    "q.qsize()"
   ]
  },
  {
   "cell_type": "markdown",
   "id": "unable-lambda",
   "metadata": {},
   "source": [
    "Standard python queue."
   ]
  },
  {
   "cell_type": "code",
   "execution_count": null,
   "id": "mighty-bahrain",
   "metadata": {},
   "outputs": [],
   "source": [
    "from queue import Queue"
   ]
  },
  {
   "cell_type": "code",
   "execution_count": null,
   "id": "golden-negotiation",
   "metadata": {},
   "outputs": [],
   "source": [
    "q = Queue()"
   ]
  },
  {
   "cell_type": "code",
   "execution_count": null,
   "id": "middle-mexico",
   "metadata": {},
   "outputs": [
    {
     "data": {
      "text/plain": [
       "113"
      ]
     },
     "execution_count": null,
     "metadata": {},
     "output_type": "execute_result"
    }
   ],
   "source": [
    "gc.collect()"
   ]
  },
  {
   "cell_type": "code",
   "execution_count": null,
   "id": "solved-clearing",
   "metadata": {},
   "outputs": [
    {
     "name": "stdout",
     "output_type": "stream",
     "text": [
      "24.5 µs ± 5.49 µs per loop (mean ± std. dev. of 7 runs, 10000 loops each)\n"
     ]
    }
   ],
   "source": [
    "%%timeit -n10000 -r7\n",
    "\n",
    "q.put(random_string(20))"
   ]
  },
  {
   "cell_type": "markdown",
   "id": "abandoned-civilian",
   "metadata": {},
   "source": [
    "Persistent SQL queue"
   ]
  },
  {
   "cell_type": "code",
   "execution_count": null,
   "id": "specific-antarctica",
   "metadata": {},
   "outputs": [],
   "source": [
    "q = SQLQueue(\"test.queue\", maxsize=None)"
   ]
  },
  {
   "cell_type": "code",
   "execution_count": null,
   "id": "realistic-senator",
   "metadata": {},
   "outputs": [
    {
     "data": {
      "text/plain": [
       "69"
      ]
     },
     "execution_count": null,
     "metadata": {},
     "output_type": "execute_result"
    }
   ],
   "source": [
    "gc.collect()"
   ]
  },
  {
   "cell_type": "code",
   "execution_count": null,
   "id": "cubic-salvation",
   "metadata": {},
   "outputs": [
    {
     "name": "stdout",
     "output_type": "stream",
     "text": [
      "157 µs ± 11.2 µs per loop (mean ± std. dev. of 7 runs, 10000 loops each)\n"
     ]
    }
   ],
   "source": [
    "%%timeit -n10000 -r7\n",
    "\n",
    "q.put(random_string(20))"
   ]
  },
  {
   "cell_type": "code",
   "execution_count": null,
   "id": "characteristic-anthropology",
   "metadata": {},
   "outputs": [
    {
     "name": "stdout",
     "output_type": "stream",
     "text": [
      "9.1M\ttest.queue\n",
      "32K\ttest.queue-shm\n",
      "5.0M\ttest.queue-wal\n"
     ]
    }
   ],
   "source": [
    "!du -sh test.queue*"
   ]
  },
  {
   "cell_type": "code",
   "execution_count": null,
   "id": "continued-portrait",
   "metadata": {},
   "outputs": [],
   "source": [
    "!rm test.queue*"
   ]
  },
  {
   "cell_type": "code",
   "execution_count": null,
   "id": "duplicate-thriller",
   "metadata": {},
   "outputs": [],
   "source": [
    "assert q.conn.isolation_level is None"
   ]
  },
  {
   "cell_type": "markdown",
   "id": "derived-eligibility",
   "metadata": {},
   "source": [
    "Creating and removing tasks"
   ]
  },
  {
   "cell_type": "code",
   "execution_count": null,
   "id": "false-awareness",
   "metadata": {},
   "outputs": [],
   "source": [
    "q = Queue()"
   ]
  },
  {
   "cell_type": "code",
   "execution_count": null,
   "id": "interstate-mention",
   "metadata": {},
   "outputs": [
    {
     "data": {
      "text/plain": [
       "135"
      ]
     },
     "execution_count": null,
     "metadata": {},
     "output_type": "execute_result"
    }
   ],
   "source": [
    "gc.collect()"
   ]
  },
  {
   "cell_type": "code",
   "execution_count": null,
   "id": "rotary-howard",
   "metadata": {},
   "outputs": [
    {
     "name": "stdout",
     "output_type": "stream",
     "text": [
      "27.4 µs ± 3.57 µs per loop (mean ± std. dev. of 7 runs, 10000 loops each)\n"
     ]
    }
   ],
   "source": [
    "%%timeit -n10000 -r7\n",
    "\n",
    "tid = random_string(20)\n",
    "\n",
    "q.put(tid)\n",
    "\n",
    "q.get()\n",
    "\n",
    "q.task_done()"
   ]
  },
  {
   "cell_type": "code",
   "execution_count": null,
   "id": "million-integration",
   "metadata": {},
   "outputs": [],
   "source": [
    "q = SQLQueue(\":memory:\", maxsize=None)"
   ]
  },
  {
   "cell_type": "code",
   "execution_count": null,
   "id": "choice-message",
   "metadata": {},
   "outputs": [
    {
     "data": {
      "text/plain": [
       "69"
      ]
     },
     "execution_count": null,
     "metadata": {},
     "output_type": "execute_result"
    }
   ],
   "source": [
    "gc.collect()"
   ]
  },
  {
   "cell_type": "code",
   "execution_count": null,
   "id": "infinite-demand",
   "metadata": {},
   "outputs": [
    {
     "name": "stdout",
     "output_type": "stream",
     "text": [
      "73.9 µs ± 5.93 µs per loop (mean ± std. dev. of 7 runs, 10000 loops each)\n"
     ]
    }
   ],
   "source": [
    "%%timeit -n10000 -r7\n",
    "\n",
    "tid = random_string(20)\n",
    "\n",
    "q.put(tid)\n",
    "\n",
    "task = q.pop()\n",
    "\n",
    "q.done(task[\"task_id\"])"
   ]
  }
 ],
 "metadata": {
  "kernelspec": {
   "display_name": "Python 3",
   "language": "python",
   "name": "python3"
  },
  "language_info": {
   "codemirror_mode": {
    "name": "ipython",
    "version": 3
   },
   "file_extension": ".py",
   "mimetype": "text/x-python",
   "name": "python",
   "nbconvert_exporter": "python",
   "pygments_lexer": "ipython3",
   "version": "3.7.9"
  }
 },
 "nbformat": 4,
 "nbformat_minor": 5
}
