{
 "cells": [
  {
   "cell_type": "code",
   "execution_count": null,
   "id": "viral-minute",
   "metadata": {},
   "outputs": [],
   "source": [
    "%load_ext autoreload\n",
    "%autoreload 2"
   ]
  },
  {
   "cell_type": "code",
   "execution_count": null,
   "id": "armed-mistress",
   "metadata": {},
   "outputs": [],
   "source": [
    "from litequeue import SQLQueue\n",
    "\n",
    "import sqlite3"
   ]
  },
  {
   "cell_type": "code",
   "execution_count": null,
   "id": "miniature-exclusive",
   "metadata": {},
   "outputs": [],
   "source": [
    "TEST_1 = \"key_test_1\"\n",
    "TEST_2 = \"key_test_2\""
   ]
  },
  {
   "cell_type": "code",
   "execution_count": null,
   "id": "executed-investigation",
   "metadata": {},
   "outputs": [],
   "source": [
    "for conn_type_kwargs in (\n",
    "    {\"filename_or_conn\": sqlite3.connect(\":memory:\")},\n",
    "    {\"filename_or_conn\": \":memory:\"},\n",
    "    {\"memory\": True},\n",
    "):\n",
    "    q = SQLQueue(**conn_type_kwargs)\n",
    "    assert (\n",
    "        q.conn.isolation_level is None\n",
    "    ), f\"Isolation level not set properly for connection '{conn_type_kwargs}'\""
   ]
  },
  {
   "cell_type": "code",
   "execution_count": null,
   "id": "threatened-consistency",
   "metadata": {},
   "outputs": [
    {
     "data": {
      "text/plain": [
       "4"
      ]
     },
     "execution_count": null,
     "metadata": {},
     "output_type": "execute_result"
    }
   ],
   "source": [
    "q = SQLQueue(sqlite3.connect(\":memory:\"))\n",
    "\n",
    "q.put(\"hello\")\n",
    "q.put(\"world\")\n",
    "q.put(\"foo\")\n",
    "q.put(\"bar\")"
   ]
  },
  {
   "cell_type": "code",
   "execution_count": null,
   "id": "toxic-objective",
   "metadata": {},
   "outputs": [
    {
     "data": {
      "text/plain": [
       "{'message': 'hello', 'task_id': '8ba8d9c02f918726f2393bbdb89aeb05'}"
      ]
     },
     "execution_count": null,
     "metadata": {},
     "output_type": "execute_result"
    }
   ],
   "source": [
    "q.pop()"
   ]
  },
  {
   "cell_type": "code",
   "execution_count": null,
   "id": "understood-retail",
   "metadata": {},
   "outputs": [
    {
     "name": "stdout",
     "output_type": "stream",
     "text": [
      "SQLQueue(Connection=<sqlite3.Connection object at 0x7ffbc6df3650>, items=[{'done_time': None,\n",
      "  'in_time': 1615799707,\n",
      "  'lock_time': 1615799708,\n",
      "  'message': 'hello',\n",
      "  'status': 1,\n",
      "  'task_id': '8ba8d9c02f918726f2393bbdb89aeb05'},\n",
      " {'done_time': None,\n",
      "  'in_time': 1615799707,\n",
      "  'lock_time': None,\n",
      "  'message': 'world',\n",
      "  'status': 0,\n",
      "  'task_id': '21d50ee2588c8e4f8632270809e23da8'},\n",
      " {'done_time': None,\n",
      "  'in_time': 1615799707,\n",
      "  'lock_time': None,\n",
      "  'message': 'foo',\n",
      "  'status': 0,\n",
      "  'task_id': 'd55fcda6f23d9ba7cc1b76318b621cc3'},\n",
      " {'done_time': None,\n",
      "  'in_time': 1615799707,\n",
      "  'lock_time': None,\n",
      "  'message': 'bar',\n",
      "  'status': 0,\n",
      "  'task_id': '693a0dd0f06dbb9d1a191d418a946063'}])\n"
     ]
    }
   ],
   "source": [
    "print(q)"
   ]
  },
  {
   "cell_type": "code",
   "execution_count": null,
   "id": "another-musical",
   "metadata": {},
   "outputs": [],
   "source": [
    "# pop remaining\n",
    "for _ in range(3):\n",
    "    q.pop()\n",
    "\n",
    "\n",
    "assert q.pop() is None"
   ]
  },
  {
   "cell_type": "code",
   "execution_count": null,
   "id": "dynamic-notion",
   "metadata": {},
   "outputs": [
    {
     "name": "stdout",
     "output_type": "stream",
     "text": [
      "SQLQueue(Connection=<sqlite3.Connection object at 0x7ffbc6df3650>, items=[{'done_time': None,\n",
      "  'in_time': 1615799707,\n",
      "  'lock_time': 1615799708,\n",
      "  'message': 'hello',\n",
      "  'status': 1,\n",
      "  'task_id': '8ba8d9c02f918726f2393bbdb89aeb05'},\n",
      " {'done_time': None,\n",
      "  'in_time': 1615799707,\n",
      "  'lock_time': 1615799708,\n",
      "  'message': 'world',\n",
      "  'status': 1,\n",
      "  'task_id': '21d50ee2588c8e4f8632270809e23da8'},\n",
      " {'done_time': None,\n",
      "  'in_time': 1615799707,\n",
      "  'lock_time': 1615799708,\n",
      "  'message': 'foo',\n",
      "  'status': 1,\n",
      "  'task_id': 'd55fcda6f23d9ba7cc1b76318b621cc3'},\n",
      " {'done_time': None,\n",
      "  'in_time': 1615799707,\n",
      "  'lock_time': 1615799708,\n",
      "  'message': 'bar',\n",
      "  'status': 1,\n",
      "  'task_id': '693a0dd0f06dbb9d1a191d418a946063'}])\n"
     ]
    }
   ],
   "source": [
    "print(q)"
   ]
  },
  {
   "cell_type": "code",
   "execution_count": null,
   "id": "under-synthetic",
   "metadata": {},
   "outputs": [
    {
     "data": {
      "text/plain": [
       "8"
      ]
     },
     "execution_count": null,
     "metadata": {},
     "output_type": "execute_result"
    }
   ],
   "source": [
    "q.put(\"hello\")\n",
    "q.put(\"world\")\n",
    "q.put(\"foo\")\n",
    "q.put(\"bar\")"
   ]
  },
  {
   "cell_type": "code",
   "execution_count": null,
   "id": "saving-discovery",
   "metadata": {},
   "outputs": [],
   "source": [
    "task = q.pop()\n",
    "\n",
    "assert task[\"message\"] == \"hello\""
   ]
  },
  {
   "cell_type": "code",
   "execution_count": null,
   "id": "brutal-shape",
   "metadata": {},
   "outputs": [
    {
     "data": {
      "text/plain": [
       "{'message': 'world',\n",
       " 'task_id': '9f11760822527ef422e60abf86b8560d',\n",
       " 'status': 0,\n",
       " 'in_time': 1615799709,\n",
       " 'lock_time': None,\n",
       " 'done_time': None}"
      ]
     },
     "execution_count": null,
     "metadata": {},
     "output_type": "execute_result"
    }
   ],
   "source": [
    "q.peek()"
   ]
  },
  {
   "cell_type": "code",
   "execution_count": null,
   "id": "binary-celtic",
   "metadata": {},
   "outputs": [],
   "source": [
    "# next one that is free\n",
    "assert q.peek()[\"message\"] == \"world\"\n",
    "\n",
    "# status = 0 = free\n",
    "assert q.peek()[\"status\"] == 0"
   ]
  },
  {
   "cell_type": "code",
   "execution_count": null,
   "id": "secure-entity",
   "metadata": {},
   "outputs": [
    {
     "data": {
      "text/plain": [
       "('hello', '9780b9a1c3827a5291630e59cf09e3cc')"
      ]
     },
     "execution_count": null,
     "metadata": {},
     "output_type": "execute_result"
    }
   ],
   "source": [
    "task[\"message\"], task[\"task_id\"]"
   ]
  },
  {
   "cell_type": "code",
   "execution_count": null,
   "id": "amber-reasoning",
   "metadata": {},
   "outputs": [
    {
     "data": {
      "text/plain": [
       "8"
      ]
     },
     "execution_count": null,
     "metadata": {},
     "output_type": "execute_result"
    }
   ],
   "source": [
    "q.done(task[\"task_id\"])"
   ]
  },
  {
   "cell_type": "code",
   "execution_count": null,
   "id": "married-bicycle",
   "metadata": {},
   "outputs": [
    {
     "data": {
      "text/plain": [
       "{'message': 'hello',\n",
       " 'task_id': '9780b9a1c3827a5291630e59cf09e3cc',\n",
       " 'status': 2,\n",
       " 'in_time': 1615799709,\n",
       " 'lock_time': 1615799709,\n",
       " 'done_time': 1615799710}"
      ]
     },
     "execution_count": null,
     "metadata": {},
     "output_type": "execute_result"
    }
   ],
   "source": [
    "q.get(task[\"task_id\"])"
   ]
  },
  {
   "cell_type": "code",
   "execution_count": null,
   "id": "hazardous-stevens",
   "metadata": {},
   "outputs": [
    {
     "name": "stdout",
     "output_type": "stream",
     "text": [
      "Task 9780b9a1c3827a5291630e59cf09e3cc took 1 seconds to get done and was in the queue for 1 seconds\n"
     ]
    }
   ],
   "source": [
    "already_done = q.get(task[\"task_id\"])\n",
    "\n",
    "# stauts = 2 = done\n",
    "assert already_done[\"status\"] == 2\n",
    "\n",
    "in_time = already_done[\"in_time\"]\n",
    "lock_time = already_done[\"lock_time\"]\n",
    "done_time = already_done[\"done_time\"]\n",
    "\n",
    "assert done_time >= lock_time >= in_time\n",
    "print(\n",
    "    f\"Task {already_done['task_id']} took {done_time - lock_time} seconds to get done and was in the queue for {done_time - in_time} seconds\"\n",
    ")"
   ]
  },
  {
   "cell_type": "code",
   "execution_count": null,
   "id": "pressing-encoding",
   "metadata": {},
   "outputs": [
    {
     "name": "stdout",
     "output_type": "stream",
     "text": [
      "SQLQueue(Connection=<sqlite3.Connection object at 0x7ffbc6df3650>, items=[{'done_time': None,\n",
      "  'in_time': 1615799707,\n",
      "  'lock_time': 1615799708,\n",
      "  'message': 'hello',\n",
      "  'status': 1,\n",
      "  'task_id': '8ba8d9c02f918726f2393bbdb89aeb05'},\n",
      " {'done_time': None,\n",
      "  'in_time': 1615799707,\n",
      "  'lock_time': 1615799708,\n",
      "  'message': 'world',\n",
      "  'status': 1,\n",
      "  'task_id': '21d50ee2588c8e4f8632270809e23da8'},\n",
      " {'done_time': None,\n",
      "  'in_time': 1615799707,\n",
      "  'lock_time': 1615799708,\n",
      "  'message': 'foo',\n",
      "  'status': 1,\n",
      "  'task_id': 'd55fcda6f23d9ba7cc1b76318b621cc3'},\n",
      " {'done_time': None,\n",
      "  'in_time': 1615799707,\n",
      "  'lock_time': 1615799708,\n",
      "  'message': 'bar',\n",
      "  'status': 1,\n",
      "  'task_id': '693a0dd0f06dbb9d1a191d418a946063'},\n",
      " {'done_time': 1615799710,\n",
      "  'in_time': 1615799709,\n",
      "  'lock_time': 1615799709,\n",
      "  'message': 'hello',\n",
      "  'status': 2,\n",
      "  'task_id': '9780b9a1c3827a5291630e59cf09e3cc'},\n",
      " {'done_time': None,\n",
      "  'in_time': 1615799709,\n",
      "  'lock_time': None,\n",
      "  'message': 'world',\n",
      "  'status': 0,\n",
      "  'task_id': '9f11760822527ef422e60abf86b8560d'},\n",
      " {'done_time': None,\n",
      "  'in_time': 1615799709,\n",
      "  'lock_time': None,\n",
      "  'message': 'foo',\n",
      "  'status': 0,\n",
      "  'task_id': 'cd0e9117f85065ab050ec6dc42c1df42'},\n",
      " {'done_time': None,\n",
      "  'in_time': 1615799709,\n",
      "  'lock_time': None,\n",
      "  'message': 'bar',\n",
      "  'status': 0,\n",
      "  'task_id': 'f0bb6b884d445fd6b02932cb8234e1b2'}])\n"
     ]
    }
   ],
   "source": [
    "print(q)"
   ]
  },
  {
   "cell_type": "code",
   "execution_count": null,
   "id": "cultural-cinema",
   "metadata": {},
   "outputs": [],
   "source": [
    "assert q.qsize() == 7"
   ]
  },
  {
   "cell_type": "code",
   "execution_count": null,
   "id": "dimensional-france",
   "metadata": {},
   "outputs": [],
   "source": [
    "next_one_msg = q.peek()[\"message\"]\n",
    "next_one_id = q.peek()[\"task_id\"]\n",
    "\n",
    "task = q.pop()\n",
    "\n",
    "assert task[\"message\"] == next_one_msg\n",
    "assert task[\"task_id\"] == next_one_id"
   ]
  },
  {
   "cell_type": "code",
   "execution_count": null,
   "id": "incident-click",
   "metadata": {},
   "outputs": [
    {
     "name": "stdout",
     "output_type": "stream",
     "text": [
      "SQLQueue(Connection=<sqlite3.Connection object at 0x7ffbc6df3650>, items=[{'done_time': None,\n",
      "  'in_time': 1615799707,\n",
      "  'lock_time': 1615799708,\n",
      "  'message': 'hello',\n",
      "  'status': 1,\n",
      "  'task_id': '8ba8d9c02f918726f2393bbdb89aeb05'},\n",
      " {'done_time': None,\n",
      "  'in_time': 1615799707,\n",
      "  'lock_time': 1615799708,\n",
      "  'message': 'world',\n",
      "  'status': 1,\n",
      "  'task_id': '21d50ee2588c8e4f8632270809e23da8'},\n",
      " {'done_time': None,\n",
      "  'in_time': 1615799707,\n",
      "  'lock_time': 1615799708,\n",
      "  'message': 'foo',\n",
      "  'status': 1,\n",
      "  'task_id': 'd55fcda6f23d9ba7cc1b76318b621cc3'},\n",
      " {'done_time': None,\n",
      "  'in_time': 1615799707,\n",
      "  'lock_time': 1615799708,\n",
      "  'message': 'bar',\n",
      "  'status': 1,\n",
      "  'task_id': '693a0dd0f06dbb9d1a191d418a946063'},\n",
      " {'done_time': 1615799710,\n",
      "  'in_time': 1615799709,\n",
      "  'lock_time': 1615799709,\n",
      "  'message': 'hello',\n",
      "  'status': 2,\n",
      "  'task_id': '9780b9a1c3827a5291630e59cf09e3cc'},\n",
      " {'done_time': None,\n",
      "  'in_time': 1615799709,\n",
      "  'lock_time': 1615799711,\n",
      "  'message': 'world',\n",
      "  'status': 1,\n",
      "  'task_id': '9f11760822527ef422e60abf86b8560d'},\n",
      " {'done_time': None,\n",
      "  'in_time': 1615799709,\n",
      "  'lock_time': None,\n",
      "  'message': 'foo',\n",
      "  'status': 0,\n",
      "  'task_id': 'cd0e9117f85065ab050ec6dc42c1df42'},\n",
      " {'done_time': None,\n",
      "  'in_time': 1615799709,\n",
      "  'lock_time': None,\n",
      "  'message': 'bar',\n",
      "  'status': 0,\n",
      "  'task_id': 'f0bb6b884d445fd6b02932cb8234e1b2'}])\n"
     ]
    }
   ],
   "source": [
    "print(q)"
   ]
  },
  {
   "cell_type": "code",
   "execution_count": null,
   "id": "emerging-secretariat",
   "metadata": {},
   "outputs": [],
   "source": [
    "q.prune()"
   ]
  },
  {
   "cell_type": "code",
   "execution_count": null,
   "id": "horizontal-beauty",
   "metadata": {},
   "outputs": [
    {
     "name": "stdout",
     "output_type": "stream",
     "text": [
      "SQLQueue(Connection=<sqlite3.Connection object at 0x7ffbc6df3650>, items=[{'done_time': None,\n",
      "  'in_time': 1615799707,\n",
      "  'lock_time': 1615799708,\n",
      "  'message': 'hello',\n",
      "  'status': 1,\n",
      "  'task_id': '8ba8d9c02f918726f2393bbdb89aeb05'},\n",
      " {'done_time': None,\n",
      "  'in_time': 1615799707,\n",
      "  'lock_time': 1615799708,\n",
      "  'message': 'world',\n",
      "  'status': 1,\n",
      "  'task_id': '21d50ee2588c8e4f8632270809e23da8'},\n",
      " {'done_time': None,\n",
      "  'in_time': 1615799707,\n",
      "  'lock_time': 1615799708,\n",
      "  'message': 'foo',\n",
      "  'status': 1,\n",
      "  'task_id': 'd55fcda6f23d9ba7cc1b76318b621cc3'},\n",
      " {'done_time': None,\n",
      "  'in_time': 1615799707,\n",
      "  'lock_time': 1615799708,\n",
      "  'message': 'bar',\n",
      "  'status': 1,\n",
      "  'task_id': '693a0dd0f06dbb9d1a191d418a946063'},\n",
      " {'done_time': None,\n",
      "  'in_time': 1615799709,\n",
      "  'lock_time': 1615799711,\n",
      "  'message': 'world',\n",
      "  'status': 1,\n",
      "  'task_id': '9f11760822527ef422e60abf86b8560d'},\n",
      " {'done_time': None,\n",
      "  'in_time': 1615799709,\n",
      "  'lock_time': None,\n",
      "  'message': 'foo',\n",
      "  'status': 0,\n",
      "  'task_id': 'cd0e9117f85065ab050ec6dc42c1df42'},\n",
      " {'done_time': None,\n",
      "  'in_time': 1615799709,\n",
      "  'lock_time': None,\n",
      "  'message': 'bar',\n",
      "  'status': 0,\n",
      "  'task_id': 'f0bb6b884d445fd6b02932cb8234e1b2'}])\n"
     ]
    }
   ],
   "source": [
    "print(q)"
   ]
  },
  {
   "cell_type": "code",
   "execution_count": null,
   "id": "leading-allocation",
   "metadata": {},
   "outputs": [],
   "source": [
    "from string import ascii_lowercase, printable\n",
    "from random import choice\n",
    "\n",
    "\n",
    "def random_string(string_length=10, fuzz=False, space=False):\n",
    "    \"\"\"Generate a random string of fixed length \"\"\"\n",
    "    letters = ascii_lowercase\n",
    "    letters = letters + \" \" if space else letters\n",
    "    if fuzz:\n",
    "        letters = printable\n",
    "    return \"\".join(choice(letters) for i in range(string_length))"
   ]
  },
  {
   "cell_type": "code",
   "execution_count": null,
   "id": "literary-college",
   "metadata": {},
   "outputs": [],
   "source": [
    "q = SQLQueue(\":memory:\", maxsize=50)"
   ]
  },
  {
   "cell_type": "code",
   "execution_count": null,
   "id": "graphic-throw",
   "metadata": {},
   "outputs": [],
   "source": [
    "for i in range(50):\n",
    "\n",
    "    q.put(random_string(20))"
   ]
  },
  {
   "cell_type": "code",
   "execution_count": null,
   "id": "elementary-shopping",
   "metadata": {},
   "outputs": [],
   "source": [
    "assert q.qsize() == 50"
   ]
  },
  {
   "cell_type": "markdown",
   "id": "fifth-cancer",
   "metadata": {},
   "source": [
    "Make sure an error is raised when the queue has reached its size limit"
   ]
  },
  {
   "cell_type": "code",
   "execution_count": null,
   "id": "strategic-princeton",
   "metadata": {},
   "outputs": [
    {
     "name": "stdout",
     "output_type": "stream",
     "text": [
      "test pass\n"
     ]
    }
   ],
   "source": [
    "import sqlite3\n",
    "\n",
    "try:\n",
    "    q.put(random_string(20))\n",
    "except sqlite3.IntegrityError: # max len reached\n",
    "    print(\"test pass\")"
   ]
  },
  {
   "cell_type": "code",
   "execution_count": null,
   "id": "changed-organization",
   "metadata": {},
   "outputs": [
    {
     "data": {
      "text/plain": [
       "{'message': 'wercpomgaomhylcldvxo',\n",
       " 'task_id': '6255e21c0b0365a6640374a89a1a1ec3'}"
      ]
     },
     "execution_count": null,
     "metadata": {},
     "output_type": "execute_result"
    }
   ],
   "source": [
    "q.pop()"
   ]
  },
  {
   "cell_type": "code",
   "execution_count": null,
   "id": "stock-hungarian",
   "metadata": {},
   "outputs": [
    {
     "data": {
      "text/plain": [
       "51"
      ]
     },
     "execution_count": null,
     "metadata": {},
     "output_type": "execute_result"
    }
   ],
   "source": [
    "q.put(\"hello\")"
   ]
  },
  {
   "cell_type": "code",
   "execution_count": null,
   "id": "suffering-arkansas",
   "metadata": {},
   "outputs": [
    {
     "data": {
      "text/plain": [
       "False"
      ]
     },
     "execution_count": null,
     "metadata": {},
     "output_type": "execute_result"
    }
   ],
   "source": [
    "q.empty()"
   ]
  },
  {
   "cell_type": "code",
   "execution_count": null,
   "id": "conditional-veteran",
   "metadata": {},
   "outputs": [],
   "source": [
    "assert q.empty() == False\n",
    "\n",
    "q2 = SQLQueue(\":memory:\")\n",
    "\n",
    "assert q2.empty() == True"
   ]
  },
  {
   "cell_type": "markdown",
   "id": "incorporate-tackle",
   "metadata": {},
   "source": [
    "**Random benchmarks**\n",
    "\n",
    "Inserting 100 items in the queue. Since it will run many times, the queue will end up having a lot more than 100 items"
   ]
  },
  {
   "cell_type": "code",
   "execution_count": null,
   "id": "invisible-species",
   "metadata": {},
   "outputs": [],
   "source": [
    "import gc"
   ]
  },
  {
   "cell_type": "markdown",
   "id": "genuine-jones",
   "metadata": {},
   "source": [
    "In-memory SQL queue"
   ]
  },
  {
   "cell_type": "code",
   "execution_count": null,
   "id": "driving-manner",
   "metadata": {},
   "outputs": [],
   "source": [
    "q = SQLQueue(\":memory:\", maxsize=None)"
   ]
  },
  {
   "cell_type": "code",
   "execution_count": null,
   "id": "unlikely-phoenix",
   "metadata": {},
   "outputs": [
    {
     "data": {
      "text/plain": [
       "44"
      ]
     },
     "execution_count": null,
     "metadata": {},
     "output_type": "execute_result"
    }
   ],
   "source": [
    "gc.collect()"
   ]
  },
  {
   "cell_type": "code",
   "execution_count": null,
   "id": "selective-privacy",
   "metadata": {},
   "outputs": [
    {
     "name": "stdout",
     "output_type": "stream",
     "text": [
      "44.5 µs ± 5.6 µs per loop (mean ± std. dev. of 7 runs, 10000 loops each)\n"
     ]
    }
   ],
   "source": [
    "%%timeit -n10000 -r7\n",
    "\n",
    "q.put(random_string(20))"
   ]
  },
  {
   "cell_type": "code",
   "execution_count": null,
   "id": "gothic-tuning",
   "metadata": {},
   "outputs": [
    {
     "data": {
      "text/plain": [
       "70000"
      ]
     },
     "execution_count": null,
     "metadata": {},
     "output_type": "execute_result"
    }
   ],
   "source": [
    "q.qsize()"
   ]
  },
  {
   "cell_type": "markdown",
   "id": "suffering-essay",
   "metadata": {},
   "source": [
    "Standard python queue."
   ]
  },
  {
   "cell_type": "code",
   "execution_count": null,
   "id": "addressed-momentum",
   "metadata": {},
   "outputs": [],
   "source": [
    "from queue import Queue"
   ]
  },
  {
   "cell_type": "code",
   "execution_count": null,
   "id": "capital-vermont",
   "metadata": {},
   "outputs": [],
   "source": [
    "q = Queue()"
   ]
  },
  {
   "cell_type": "code",
   "execution_count": null,
   "id": "valued-confirmation",
   "metadata": {},
   "outputs": [
    {
     "data": {
      "text/plain": [
       "113"
      ]
     },
     "execution_count": null,
     "metadata": {},
     "output_type": "execute_result"
    }
   ],
   "source": [
    "gc.collect()"
   ]
  },
  {
   "cell_type": "code",
   "execution_count": null,
   "id": "collect-ordinance",
   "metadata": {},
   "outputs": [
    {
     "name": "stdout",
     "output_type": "stream",
     "text": [
      "26.1 µs ± 5.21 µs per loop (mean ± std. dev. of 7 runs, 10000 loops each)\n"
     ]
    }
   ],
   "source": [
    "%%timeit -n10000 -r7\n",
    "\n",
    "q.put(random_string(20))"
   ]
  },
  {
   "cell_type": "markdown",
   "id": "graduate-doubt",
   "metadata": {},
   "source": [
    "Persistent SQL queue"
   ]
  },
  {
   "cell_type": "code",
   "execution_count": null,
   "id": "attempted-christmas",
   "metadata": {},
   "outputs": [],
   "source": [
    "q = SQLQueue(\"test.queue\", maxsize=None)"
   ]
  },
  {
   "cell_type": "code",
   "execution_count": null,
   "id": "checked-joshua",
   "metadata": {},
   "outputs": [
    {
     "data": {
      "text/plain": [
       "69"
      ]
     },
     "execution_count": null,
     "metadata": {},
     "output_type": "execute_result"
    }
   ],
   "source": [
    "gc.collect()"
   ]
  },
  {
   "cell_type": "code",
   "execution_count": null,
   "id": "heard-syntax",
   "metadata": {},
   "outputs": [
    {
     "name": "stdout",
     "output_type": "stream",
     "text": [
      "211 µs ± 32.3 µs per loop (mean ± std. dev. of 7 runs, 10000 loops each)\n"
     ]
    }
   ],
   "source": [
    "%%timeit -n10000 -r7\n",
    "\n",
    "q.put(random_string(20))"
   ]
  },
  {
   "cell_type": "code",
   "execution_count": null,
   "id": "collect-survey",
   "metadata": {},
   "outputs": [
    {
     "name": "stdout",
     "output_type": "stream",
     "text": [
      "9.1M\ttest.queue\n",
      "32K\ttest.queue-shm\n",
      "5.0M\ttest.queue-wal\n"
     ]
    }
   ],
   "source": [
    "!du -sh test.queue*"
   ]
  },
  {
   "cell_type": "code",
   "execution_count": null,
   "id": "discrete-compact",
   "metadata": {},
   "outputs": [],
   "source": [
    "!rm test.queue*"
   ]
  },
  {
   "cell_type": "code",
   "execution_count": null,
   "id": "celtic-borough",
   "metadata": {},
   "outputs": [],
   "source": [
    "assert q.conn.isolation_level is None"
   ]
  },
  {
   "cell_type": "markdown",
   "id": "novel-durham",
   "metadata": {},
   "source": [
    "Creating and removing tasks"
   ]
  },
  {
   "cell_type": "code",
   "execution_count": null,
   "id": "stable-fundamentals",
   "metadata": {},
   "outputs": [],
   "source": [
    "q = Queue()"
   ]
  },
  {
   "cell_type": "code",
   "execution_count": null,
   "id": "handy-tribe",
   "metadata": {},
   "outputs": [
    {
     "data": {
      "text/plain": [
       "135"
      ]
     },
     "execution_count": null,
     "metadata": {},
     "output_type": "execute_result"
    }
   ],
   "source": [
    "gc.collect()"
   ]
  },
  {
   "cell_type": "code",
   "execution_count": null,
   "id": "vertical-portland",
   "metadata": {},
   "outputs": [
    {
     "name": "stdout",
     "output_type": "stream",
     "text": [
      "37.9 µs ± 7.59 µs per loop (mean ± std. dev. of 7 runs, 10000 loops each)\n"
     ]
    }
   ],
   "source": [
    "%%timeit -n10000 -r7\n",
    "\n",
    "tid = random_string(20)\n",
    "\n",
    "q.put(tid)\n",
    "\n",
    "q.get()\n",
    "\n",
    "q.task_done()"
   ]
  },
  {
   "cell_type": "code",
   "execution_count": null,
   "id": "solar-kazakhstan",
   "metadata": {},
   "outputs": [],
   "source": [
    "q = SQLQueue(\":memory:\", maxsize=None)"
   ]
  },
  {
   "cell_type": "code",
   "execution_count": null,
   "id": "announced-tampa",
   "metadata": {},
   "outputs": [
    {
     "data": {
      "text/plain": [
       "69"
      ]
     },
     "execution_count": null,
     "metadata": {},
     "output_type": "execute_result"
    }
   ],
   "source": [
    "gc.collect()"
   ]
  },
  {
   "cell_type": "code",
   "execution_count": null,
   "id": "premium-eugene",
   "metadata": {},
   "outputs": [
    {
     "name": "stdout",
     "output_type": "stream",
     "text": [
      "123 µs ± 12.7 µs per loop (mean ± std. dev. of 7 runs, 10000 loops each)\n"
     ]
    }
   ],
   "source": [
    "%%timeit -n10000 -r7\n",
    "\n",
    "tid = random_string(20)\n",
    "\n",
    "q.put(tid)\n",
    "\n",
    "task = q.pop()\n",
    "\n",
    "q.done(task[\"task_id\"])"
   ]
  }
 ],
 "metadata": {
  "kernelspec": {
   "display_name": "Python 3",
   "language": "python",
   "name": "python3"
  }
 },
 "nbformat": 4,
 "nbformat_minor": 5
}
